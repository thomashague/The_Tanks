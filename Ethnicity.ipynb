{
 "cells": [
  {
   "cell_type": "code",
   "execution_count": 1,
   "metadata": {},
   "outputs": [],
   "source": [
    "import numpy as np\n",
    "import pandas as pd\n",
    "import matplotlib.pyplot as plt\n",
    "from matplotlib import style\n",
    "import requests\n",
    "import json"
   ]
  },
  {
   "cell_type": "code",
   "execution_count": 2,
   "metadata": {},
   "outputs": [],
   "source": [
    "apikey = \"b399f5a7a24bf7be63e60ce7c22d1cb6e294e92b\""
   ]
  },
  {
   "cell_type": "code",
   "execution_count": 3,
   "metadata": {},
   "outputs": [],
   "source": [
    "url = 'https://api.census.gov/data/2013/acs1?get=NAME,B02008_001E,B02009_001E,B02010_001E,B02011_001E,B02012_001E,B02013_001E&for=congressional%20district:*&key=' + apikey"
   ]
  },
  {
   "cell_type": "code",
   "execution_count": 4,
   "metadata": {},
   "outputs": [],
   "source": [
    "ethnicitydata = requests.get(url)\n",
    "edata = ethnicitydata.json()\n",
    "ethnicity =pd.DataFrame(edata)\n",
    "ethnicity.columns = ethnicity.iloc[0]"
   ]
  },
  {
   "cell_type": "code",
   "execution_count": 5,
   "metadata": {},
   "outputs": [],
   "source": [
    "# [\"B02008_001E\":\"White\", \"B02009_001E\":\"African American\",\"B02010_001E\":\"Native American/Alaskan\",\"B02011_001E\":\"Asian\",\"B02012_001E\":\"Native Hawaiian/Pacific Islander\",\"B02013_001E\":\"Other\"]"
   ]
  },
  {
   "cell_type": "code",
   "execution_count": 6,
   "metadata": {},
   "outputs": [
    {
     "data": {
      "text/html": [
       "<div>\n",
       "<style scoped>\n",
       "    .dataframe tbody tr th:only-of-type {\n",
       "        vertical-align: middle;\n",
       "    }\n",
       "\n",
       "    .dataframe tbody tr th {\n",
       "        vertical-align: top;\n",
       "    }\n",
       "\n",
       "    .dataframe thead th {\n",
       "        text-align: right;\n",
       "    }\n",
       "</style>\n",
       "<table border=\"1\" class=\"dataframe\">\n",
       "  <thead>\n",
       "    <tr style=\"text-align: right;\">\n",
       "      <th></th>\n",
       "      <th>NAME</th>\n",
       "      <th>B02008_001E</th>\n",
       "      <th>B02009_001E</th>\n",
       "      <th>B02010_001E</th>\n",
       "      <th>B02011_001E</th>\n",
       "      <th>B02012_001E</th>\n",
       "      <th>B02013_001E</th>\n",
       "      <th>state</th>\n",
       "      <th>congressional district</th>\n",
       "    </tr>\n",
       "  </thead>\n",
       "  <tbody>\n",
       "    <tr>\n",
       "      <th>66</th>\n",
       "      <td>Congressional District 45 (113th Congress), Ca...</td>\n",
       "      <td>498130</td>\n",
       "      <td>20351</td>\n",
       "      <td>7528</td>\n",
       "      <td>182367</td>\n",
       "      <td>3683</td>\n",
       "      <td>53331</td>\n",
       "      <td>06</td>\n",
       "      <td>45</td>\n",
       "    </tr>\n",
       "  </tbody>\n",
       "</table>\n",
       "</div>"
      ],
      "text/plain": [
       "0                                                NAME B02008_001E B02009_001E  \\\n",
       "66  Congressional District 45 (113th Congress), Ca...      498130       20351   \n",
       "\n",
       "0  B02010_001E B02011_001E B02012_001E B02013_001E state  \\\n",
       "66        7528      182367        3683       53331    06   \n",
       "\n",
       "0  congressional district  \n",
       "66                     45  "
      ]
     },
     "execution_count": 6,
     "metadata": {},
     "output_type": "execute_result"
    }
   ],
   "source": [
    "e1 = ethnicity.drop([0])\n",
    "e2 = e1[(e1[\"NAME\"] == \"Congressional District 45 (113th Congress), California\")]\n",
    "e2.head()"
   ]
  },
  {
   "cell_type": "code",
   "execution_count": 7,
   "metadata": {},
   "outputs": [
    {
     "data": {
      "text/html": [
       "<div>\n",
       "<style scoped>\n",
       "    .dataframe tbody tr th:only-of-type {\n",
       "        vertical-align: middle;\n",
       "    }\n",
       "\n",
       "    .dataframe tbody tr th {\n",
       "        vertical-align: top;\n",
       "    }\n",
       "\n",
       "    .dataframe thead th {\n",
       "        text-align: right;\n",
       "    }\n",
       "</style>\n",
       "<table border=\"1\" class=\"dataframe\">\n",
       "  <thead>\n",
       "    <tr style=\"text-align: right;\">\n",
       "      <th></th>\n",
       "      <th>NAME</th>\n",
       "      <th>White</th>\n",
       "      <th>African American</th>\n",
       "      <th>Native American/Alaskan</th>\n",
       "      <th>Asian</th>\n",
       "      <th>Native Hawaiian/Pacific Islander</th>\n",
       "      <th>Other</th>\n",
       "      <th>state</th>\n",
       "      <th>congressional district</th>\n",
       "    </tr>\n",
       "  </thead>\n",
       "  <tbody>\n",
       "    <tr>\n",
       "      <th>66</th>\n",
       "      <td>Congressional District 45 (113th Congress), Ca...</td>\n",
       "      <td>498130</td>\n",
       "      <td>20351</td>\n",
       "      <td>7528</td>\n",
       "      <td>182367</td>\n",
       "      <td>3683</td>\n",
       "      <td>53331</td>\n",
       "      <td>06</td>\n",
       "      <td>45</td>\n",
       "    </tr>\n",
       "  </tbody>\n",
       "</table>\n",
       "</div>"
      ],
      "text/plain": [
       "0                                                NAME   White  \\\n",
       "66  Congressional District 45 (113th Congress), Ca...  498130   \n",
       "\n",
       "0  African American Native American/Alaskan   Asian  \\\n",
       "66            20351                    7528  182367   \n",
       "\n",
       "0  Native Hawaiian/Pacific Islander  Other state congressional district  \n",
       "66                             3683  53331    06                     45  "
      ]
     },
     "execution_count": 7,
     "metadata": {},
     "output_type": "execute_result"
    }
   ],
   "source": [
    "e2 = e2.rename(columns={\"B02008_001E\":\"White\", \"B02009_001E\":\"African American\",\"B02010_001E\":\"Native American/Alaskan\",\"B02011_001E\":\"Asian\",\"B02012_001E\":\"Native Hawaiian/Pacific Islander\",\"B02013_001E\":\"Other\"})\n",
    "e2.head()"
   ]
  },
  {
   "cell_type": "code",
   "execution_count": 8,
   "metadata": {},
   "outputs": [
    {
     "data": {
      "text/html": [
       "<div>\n",
       "<style scoped>\n",
       "    .dataframe tbody tr th:only-of-type {\n",
       "        vertical-align: middle;\n",
       "    }\n",
       "\n",
       "    .dataframe tbody tr th {\n",
       "        vertical-align: top;\n",
       "    }\n",
       "\n",
       "    .dataframe thead th {\n",
       "        text-align: right;\n",
       "    }\n",
       "</style>\n",
       "<table border=\"1\" class=\"dataframe\">\n",
       "  <thead>\n",
       "    <tr style=\"text-align: right;\">\n",
       "      <th></th>\n",
       "      <th>66</th>\n",
       "    </tr>\n",
       "    <tr>\n",
       "      <th>0</th>\n",
       "      <th></th>\n",
       "    </tr>\n",
       "  </thead>\n",
       "  <tbody>\n",
       "    <tr>\n",
       "      <th>White</th>\n",
       "      <td>498130</td>\n",
       "    </tr>\n",
       "    <tr>\n",
       "      <th>African American</th>\n",
       "      <td>20351</td>\n",
       "    </tr>\n",
       "    <tr>\n",
       "      <th>Native American/Alaskan</th>\n",
       "      <td>7528</td>\n",
       "    </tr>\n",
       "    <tr>\n",
       "      <th>Asian</th>\n",
       "      <td>182367</td>\n",
       "    </tr>\n",
       "    <tr>\n",
       "      <th>Native Hawaiian/Pacific Islander</th>\n",
       "      <td>3683</td>\n",
       "    </tr>\n",
       "    <tr>\n",
       "      <th>Other</th>\n",
       "      <td>53331</td>\n",
       "    </tr>\n",
       "    <tr>\n",
       "      <th>state</th>\n",
       "      <td>06</td>\n",
       "    </tr>\n",
       "    <tr>\n",
       "      <th>congressional district</th>\n",
       "      <td>45</td>\n",
       "    </tr>\n",
       "  </tbody>\n",
       "</table>\n",
       "</div>"
      ],
      "text/plain": [
       "                                      66\n",
       "0                                       \n",
       "White                             498130\n",
       "African American                   20351\n",
       "Native American/Alaskan             7528\n",
       "Asian                             182367\n",
       "Native Hawaiian/Pacific Islander    3683\n",
       "Other                              53331\n",
       "state                                 06\n",
       "congressional district                45"
      ]
     },
     "execution_count": 8,
     "metadata": {},
     "output_type": "execute_result"
    }
   ],
   "source": [
    "e3 = e2.T\n",
    "e4 = e3.drop([\"NAME\"])\n",
    "e4"
   ]
  },
  {
   "cell_type": "code",
   "execution_count": 9,
   "metadata": {},
   "outputs": [
    {
     "data": {
      "text/html": [
       "<div>\n",
       "<style scoped>\n",
       "    .dataframe tbody tr th:only-of-type {\n",
       "        vertical-align: middle;\n",
       "    }\n",
       "\n",
       "    .dataframe tbody tr th {\n",
       "        vertical-align: top;\n",
       "    }\n",
       "\n",
       "    .dataframe thead th {\n",
       "        text-align: right;\n",
       "    }\n",
       "</style>\n",
       "<table border=\"1\" class=\"dataframe\">\n",
       "  <thead>\n",
       "    <tr style=\"text-align: right;\">\n",
       "      <th></th>\n",
       "      <th>Ethnicity</th>\n",
       "    </tr>\n",
       "    <tr>\n",
       "      <th>0</th>\n",
       "      <th></th>\n",
       "    </tr>\n",
       "  </thead>\n",
       "  <tbody>\n",
       "    <tr>\n",
       "      <th>White</th>\n",
       "      <td>498130</td>\n",
       "    </tr>\n",
       "    <tr>\n",
       "      <th>African American</th>\n",
       "      <td>20351</td>\n",
       "    </tr>\n",
       "    <tr>\n",
       "      <th>Native American/Alaskan</th>\n",
       "      <td>7528</td>\n",
       "    </tr>\n",
       "    <tr>\n",
       "      <th>Asian</th>\n",
       "      <td>182367</td>\n",
       "    </tr>\n",
       "    <tr>\n",
       "      <th>Native Hawaiian/Pacific Islander</th>\n",
       "      <td>3683</td>\n",
       "    </tr>\n",
       "    <tr>\n",
       "      <th>Other</th>\n",
       "      <td>53331</td>\n",
       "    </tr>\n",
       "    <tr>\n",
       "      <th>congressional district</th>\n",
       "      <td>45</td>\n",
       "    </tr>\n",
       "  </tbody>\n",
       "</table>\n",
       "</div>"
      ],
      "text/plain": [
       "                                 Ethnicity\n",
       "0                                         \n",
       "White                               498130\n",
       "African American                     20351\n",
       "Native American/Alaskan               7528\n",
       "Asian                               182367\n",
       "Native Hawaiian/Pacific Islander      3683\n",
       "Other                                53331\n",
       "congressional district                  45"
      ]
     },
     "execution_count": 9,
     "metadata": {},
     "output_type": "execute_result"
    }
   ],
   "source": [
    "e5 = e4.drop([\"state\"])\n",
    "e5.columns = e5.columns.astype(str)\n",
    "e5 = e5.rename(columns={\"66\":\"Ethnicity\"})\n",
    "e5"
   ]
  },
  {
   "cell_type": "code",
   "execution_count": 10,
   "metadata": {},
   "outputs": [
    {
     "data": {
      "text/plain": [
       "Ethnicity    int32\n",
       "dtype: object"
      ]
     },
     "execution_count": 10,
     "metadata": {},
     "output_type": "execute_result"
    }
   ],
   "source": [
    "e6 = e5.drop([\"congressional district\"])\n",
    "e6[\"Ethnicity\"]= e6[\"Ethnicity\"].astype(str).astype(int)\n",
    "e6.dtypes"
   ]
  },
  {
   "cell_type": "code",
   "execution_count": 14,
   "metadata": {},
   "outputs": [
    {
     "data": {
      "text/plain": [
       "array([<matplotlib.axes._subplots.AxesSubplot object at 0x0000028C0321CC88>],\n",
       "      dtype=object)"
      ]
     },
     "execution_count": 14,
     "metadata": {},
     "output_type": "execute_result"
    },
    {
     "data": {
      "image/png": "[encoded data removed]",
      "text/plain": [
       "<matplotlib.figure.Figure at 0x28c031bb9e8>"
      ]
     },
     "metadata": {},
     "output_type": "display_data"
    }
   ],
   "source": [
    "e6.plot.pie(subplots=True, figsize=(8,8))"
   ]
  },
  {
   "cell_type": "code",
   "execution_count": null,
   "metadata": {},
   "outputs": [],
   "source": []
  }
 ],
 "metadata": {
  "kernelspec": {
   "display_name": "Python [conda env:PythonData]",
   "language": "python",
   "name": "conda-env-PythonData-py"
  },
  "language_info": {
   "codemirror_mode": {
    "name": "ipython",
    "version": 3
   },
   "file_extension": ".py",
   "mimetype": "text/x-python",
   "name": "python",
   "nbconvert_exporter": "python",
   "pygments_lexer": "ipython3",
   "version": "3.6.4"
  }
 },
 "nbformat": 4,
 "nbformat_minor": 2
}
