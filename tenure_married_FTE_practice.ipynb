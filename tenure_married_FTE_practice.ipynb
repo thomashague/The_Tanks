{
 "cells": [
  {
   "cell_type": "code",
   "execution_count": 200,
   "metadata": {},
   "outputs": [],
   "source": [
    "# Dependencies\n",
    "import json\n",
    "import requests\n",
    "import numpy as np\n",
    "import pandas as pd\n"
   ]
  },
  {
   "cell_type": "code",
   "execution_count": 201,
   "metadata": {},
   "outputs": [],
   "source": [
    "api_key = 'a770489433124a44654119b16edfb8291b8efa25'"
   ]
  },
  {
   "cell_type": "markdown",
   "metadata": {},
   "source": [
    "        End Points"
   ]
  },
  {
   "cell_type": "raw",
   "metadata": {},
   "source": [
    "End Points - URL\n",
    "\n",
    "    Base URL / Host Name                          'https://api.census.gov/data/\n",
    "    + timeseries                                   2013/\n",
    "    + dataset anme acronim                         acs1\n",
    "    + start queary                                 ?\n",
    "    + add evriables starting with get clause       get=NAME,B25003_001E,B12001_001E,C23022_001E\n",
    "    + predicate clause                             &for=metropolitan%20statistical%20area/micropolitan%20statistical%20area:\n",
    "    + insert key                                   &key='\n",
    "\n",
    "#B12001_001E = Sex by Marital status for age 15+ ** COLUNM TO BE  \"M-Status-M\" & \"M-Status-F\" &\n",
    "#B25003_001E = Tenure (Owner/Renter) ** COLUMNS TO BE \"owner\" \"Renter\"\n",
    "#C23022_001E = sex by full time full time employment status ** \"FT emp - M\" & \"FT emp - F\" "
   ]
  },
  {
   "cell_type": "code",
   "execution_count": 202,
   "metadata": {},
   "outputs": [],
   "source": [
    "url_tenure = 'https://api.census.gov/data/2013/acs1?get=NAME,B25003_001E&for=metropolitan%20statistical%20area/micropolitan%20statistical%20area:*&key='\n",
    "url_Mstatus = 'https://api.census.gov/data/2013/acs1?get=NAME,B12001_001E&for=metropolitan%20statistical%20area/micropolitan%20statistical%20area:*&key='\n",
    "url_Employed = 'https://api.census.gov/data/2013/acs1?get=NAME,C23022_001E&for=metropolitan%20statistical%20area/micropolitan%20statistical%20area:*&key='"
   ]
  },
  {
   "cell_type": "code",
   "execution_count": 203,
   "metadata": {},
   "outputs": [],
   "source": [
    "#base_url = 'https://api.census.gov/data/'\n",
    "#year = '2013/'\n",
    "#datasetAcronym = 'acs1/'\n",
    "#query = '?get='\n",
    "\n",
    "#full_url = base_url + year + datasetAcronym\n",
    "#B12001_001E = Sex by Marital status for age 15+ (total)\n",
    "#B25003_001E = Tenure (Owner/Renter)\n",
    "#C23022_001E = sex by full time full time employment status\n",
    "\n",
    "#https://api.census.gov/data/2013/acs1?get=NAME,B25003_001E,B12001_001E,C23022_001E&for=state:*&key=your key here\n"
   ]
  },
  {
   "cell_type": "code",
   "execution_count": 204,
   "metadata": {},
   "outputs": [],
   "source": [
    "#query for tenure response\n",
    "tenure_response = requests.get(url_tenure)\n",
    "tenure_json = tenure_response.json()\n",
    "\n",
    "#query for marital status response (married)\n",
    "married_response = requests.get(url_Mstatus)\n",
    "married_json = married_response.json()\n",
    "\n",
    "#query for Full Time Employment response (FTE)\n",
    "FTE_response = requests.get(url_Employed)\n",
    "FTE_json = FTE_response.json()"
   ]
  },
  {
   "cell_type": "markdown",
   "metadata": {},
   "source": [
    "        Look at json files"
   ]
  },
  {
   "cell_type": "code",
   "execution_count": 205,
   "metadata": {},
   "outputs": [
    {
     "data": {
      "text/plain": [
       "[['NAME',\n",
       "  'B25003_001E',\n",
       "  'metropolitan statistical area/micropolitan statistical area'],\n",
       " ['Aguadilla-Isabela, PR Metro Area', '110765', '10380'],\n",
       " ['Arecibo, PR Metro Area', '68222', '11640']]"
      ]
     },
     "execution_count": 205,
     "metadata": {},
     "output_type": "execute_result"
    }
   ],
   "source": [
    "#view json - tenure\n",
    "tenure_json[0:3]"
   ]
  },
  {
   "cell_type": "code",
   "execution_count": 206,
   "metadata": {},
   "outputs": [
    {
     "data": {
      "text/plain": [
       "[['NAME',\n",
       "  'B12001_001E',\n",
       "  'metropolitan statistical area/micropolitan statistical area'],\n",
       " ['Aguadilla-Isabela, PR Metro Area', '269254', '10380'],\n",
       " ['Arecibo, PR Metro Area', '160423', '11640']]"
      ]
     },
     "execution_count": 206,
     "metadata": {},
     "output_type": "execute_result"
    }
   ],
   "source": [
    "#view json for marital status\n",
    "married_json[0:3]"
   ]
  },
  {
   "cell_type": "code",
   "execution_count": 207,
   "metadata": {},
   "outputs": [
    {
     "data": {
      "text/plain": [
       "[['NAME',\n",
       "  'C23022_001E',\n",
       "  'metropolitan statistical area/micropolitan statistical area'],\n",
       " ['Aguadilla-Isabela, PR Metro Area', '209864', '10380'],\n",
       " ['Arecibo, PR Metro Area', '123553', '11640']]"
      ]
     },
     "execution_count": 207,
     "metadata": {},
     "output_type": "execute_result"
    }
   ],
   "source": [
    "#veiw json for full time employment status\n",
    "FTE_json[0:3]"
   ]
  },
  {
   "cell_type": "markdown",
   "metadata": {},
   "source": [
    "        Convert json files to data frames"
   ]
  },
  {
   "cell_type": "code",
   "execution_count": 208,
   "metadata": {},
   "outputs": [],
   "source": [
    "# Convert tenure to to Data Frame\n",
    "tenure_df =pd.DataFrame(tenure_json)\n",
    "tenure_df.columns = tenure_df.iloc[0]\n",
    "\n",
    "# Convert Married to to Data Frame\n",
    "married_df =pd.DataFrame(married_json)\n",
    "married_df.columns = married_df.iloc[0]\n",
    "\n",
    "# Convert FTE to to Data Frame\n",
    "FTE_df =pd.DataFrame(FTE_json)\n",
    "FTE_df.columns = FTE_df.iloc[0]"
   ]
  },
  {
   "cell_type": "markdown",
   "metadata": {},
   "source": [
    "        View Data Frames"
   ]
  },
  {
   "cell_type": "code",
   "execution_count": 209,
   "metadata": {},
   "outputs": [
    {
     "data": {
      "text/html": [
       "<div>\n",
       "<style scoped>\n",
       "    .dataframe tbody tr th:only-of-type {\n",
       "        vertical-align: middle;\n",
       "    }\n",
       "\n",
       "    .dataframe tbody tr th {\n",
       "        vertical-align: top;\n",
       "    }\n",
       "\n",
       "    .dataframe thead th {\n",
       "        text-align: right;\n",
       "    }\n",
       "</style>\n",
       "<table border=\"1\" class=\"dataframe\">\n",
       "  <thead>\n",
       "    <tr style=\"text-align: right;\">\n",
       "      <th></th>\n",
       "      <th>NAME</th>\n",
       "      <th>B25003_001E</th>\n",
       "      <th>metropolitan statistical area/micropolitan statistical area</th>\n",
       "    </tr>\n",
       "  </thead>\n",
       "  <tbody>\n",
       "    <tr>\n",
       "      <th>0</th>\n",
       "      <td>NAME</td>\n",
       "      <td>B25003_001E</td>\n",
       "      <td>metropolitan statistical area/micropolitan sta...</td>\n",
       "    </tr>\n",
       "    <tr>\n",
       "      <th>1</th>\n",
       "      <td>Aguadilla-Isabela, PR Metro Area</td>\n",
       "      <td>110765</td>\n",
       "      <td>10380</td>\n",
       "    </tr>\n",
       "    <tr>\n",
       "      <th>2</th>\n",
       "      <td>Arecibo, PR Metro Area</td>\n",
       "      <td>68222</td>\n",
       "      <td>11640</td>\n",
       "    </tr>\n",
       "  </tbody>\n",
       "</table>\n",
       "</div>"
      ],
      "text/plain": [
       "0                              NAME  B25003_001E  \\\n",
       "0                              NAME  B25003_001E   \n",
       "1  Aguadilla-Isabela, PR Metro Area       110765   \n",
       "2            Arecibo, PR Metro Area        68222   \n",
       "\n",
       "0 metropolitan statistical area/micropolitan statistical area  \n",
       "0  metropolitan statistical area/micropolitan sta...           \n",
       "1                                              10380           \n",
       "2                                              11640           "
      ]
     },
     "execution_count": 209,
     "metadata": {},
     "output_type": "execute_result"
    }
   ],
   "source": [
    "tenure_df.head(3)"
   ]
  },
  {
   "cell_type": "code",
   "execution_count": 210,
   "metadata": {},
   "outputs": [
    {
     "data": {
      "text/html": [
       "<div>\n",
       "<style scoped>\n",
       "    .dataframe tbody tr th:only-of-type {\n",
       "        vertical-align: middle;\n",
       "    }\n",
       "\n",
       "    .dataframe tbody tr th {\n",
       "        vertical-align: top;\n",
       "    }\n",
       "\n",
       "    .dataframe thead th {\n",
       "        text-align: right;\n",
       "    }\n",
       "</style>\n",
       "<table border=\"1\" class=\"dataframe\">\n",
       "  <thead>\n",
       "    <tr style=\"text-align: right;\">\n",
       "      <th></th>\n",
       "      <th>NAME</th>\n",
       "      <th>B12001_001E</th>\n",
       "      <th>metropolitan statistical area/micropolitan statistical area</th>\n",
       "    </tr>\n",
       "  </thead>\n",
       "  <tbody>\n",
       "    <tr>\n",
       "      <th>0</th>\n",
       "      <td>NAME</td>\n",
       "      <td>B12001_001E</td>\n",
       "      <td>metropolitan statistical area/micropolitan sta...</td>\n",
       "    </tr>\n",
       "    <tr>\n",
       "      <th>1</th>\n",
       "      <td>Aguadilla-Isabela, PR Metro Area</td>\n",
       "      <td>269254</td>\n",
       "      <td>10380</td>\n",
       "    </tr>\n",
       "    <tr>\n",
       "      <th>2</th>\n",
       "      <td>Arecibo, PR Metro Area</td>\n",
       "      <td>160423</td>\n",
       "      <td>11640</td>\n",
       "    </tr>\n",
       "  </tbody>\n",
       "</table>\n",
       "</div>"
      ],
      "text/plain": [
       "0                              NAME  B12001_001E  \\\n",
       "0                              NAME  B12001_001E   \n",
       "1  Aguadilla-Isabela, PR Metro Area       269254   \n",
       "2            Arecibo, PR Metro Area       160423   \n",
       "\n",
       "0 metropolitan statistical area/micropolitan statistical area  \n",
       "0  metropolitan statistical area/micropolitan sta...           \n",
       "1                                              10380           \n",
       "2                                              11640           "
      ]
     },
     "execution_count": 210,
     "metadata": {},
     "output_type": "execute_result"
    }
   ],
   "source": [
    "married_df.head(3)"
   ]
  },
  {
   "cell_type": "code",
   "execution_count": 211,
   "metadata": {},
   "outputs": [
    {
     "data": {
      "text/html": [
       "<div>\n",
       "<style scoped>\n",
       "    .dataframe tbody tr th:only-of-type {\n",
       "        vertical-align: middle;\n",
       "    }\n",
       "\n",
       "    .dataframe tbody tr th {\n",
       "        vertical-align: top;\n",
       "    }\n",
       "\n",
       "    .dataframe thead th {\n",
       "        text-align: right;\n",
       "    }\n",
       "</style>\n",
       "<table border=\"1\" class=\"dataframe\">\n",
       "  <thead>\n",
       "    <tr style=\"text-align: right;\">\n",
       "      <th></th>\n",
       "      <th>NAME</th>\n",
       "      <th>C23022_001E</th>\n",
       "      <th>metropolitan statistical area/micropolitan statistical area</th>\n",
       "    </tr>\n",
       "  </thead>\n",
       "  <tbody>\n",
       "    <tr>\n",
       "      <th>0</th>\n",
       "      <td>NAME</td>\n",
       "      <td>C23022_001E</td>\n",
       "      <td>metropolitan statistical area/micropolitan sta...</td>\n",
       "    </tr>\n",
       "    <tr>\n",
       "      <th>1</th>\n",
       "      <td>Aguadilla-Isabela, PR Metro Area</td>\n",
       "      <td>209864</td>\n",
       "      <td>10380</td>\n",
       "    </tr>\n",
       "    <tr>\n",
       "      <th>2</th>\n",
       "      <td>Arecibo, PR Metro Area</td>\n",
       "      <td>123553</td>\n",
       "      <td>11640</td>\n",
       "    </tr>\n",
       "  </tbody>\n",
       "</table>\n",
       "</div>"
      ],
      "text/plain": [
       "0                              NAME  C23022_001E  \\\n",
       "0                              NAME  C23022_001E   \n",
       "1  Aguadilla-Isabela, PR Metro Area       209864   \n",
       "2            Arecibo, PR Metro Area       123553   \n",
       "\n",
       "0 metropolitan statistical area/micropolitan statistical area  \n",
       "0  metropolitan statistical area/micropolitan sta...           \n",
       "1                                              10380           \n",
       "2                                              11640           "
      ]
     },
     "execution_count": 211,
     "metadata": {},
     "output_type": "execute_result"
    }
   ],
   "source": [
    "FTE_df.head(3)"
   ]
  },
  {
   "cell_type": "markdown",
   "metadata": {},
   "source": [
    "        Correct column headings"
   ]
  },
  {
   "cell_type": "code",
   "execution_count": 212,
   "metadata": {},
   "outputs": [
    {
     "data": {
      "text/html": [
       "<div>\n",
       "<style scoped>\n",
       "    .dataframe tbody tr th:only-of-type {\n",
       "        vertical-align: middle;\n",
       "    }\n",
       "\n",
       "    .dataframe tbody tr th {\n",
       "        vertical-align: top;\n",
       "    }\n",
       "\n",
       "    .dataframe thead th {\n",
       "        text-align: right;\n",
       "    }\n",
       "</style>\n",
       "<table border=\"1\" class=\"dataframe\">\n",
       "  <thead>\n",
       "    <tr style=\"text-align: right;\">\n",
       "      <th></th>\n",
       "      <th>NAME</th>\n",
       "      <th>Home Owners</th>\n",
       "      <th>MSA</th>\n",
       "    </tr>\n",
       "  </thead>\n",
       "  <tbody>\n",
       "    <tr>\n",
       "      <th>1</th>\n",
       "      <td>Aguadilla-Isabela, PR Metro Area</td>\n",
       "      <td>110765</td>\n",
       "      <td>10380</td>\n",
       "    </tr>\n",
       "    <tr>\n",
       "      <th>2</th>\n",
       "      <td>Arecibo, PR Metro Area</td>\n",
       "      <td>68222</td>\n",
       "      <td>11640</td>\n",
       "    </tr>\n",
       "    <tr>\n",
       "      <th>3</th>\n",
       "      <td>Guayama, PR Metro Area</td>\n",
       "      <td>29865</td>\n",
       "      <td>25020</td>\n",
       "    </tr>\n",
       "    <tr>\n",
       "      <th>4</th>\n",
       "      <td>Mayagüez, PR Metro Area</td>\n",
       "      <td>36919</td>\n",
       "      <td>32420</td>\n",
       "    </tr>\n",
       "    <tr>\n",
       "      <th>5</th>\n",
       "      <td>Ponce, PR Metro Area</td>\n",
       "      <td>112269</td>\n",
       "      <td>38660</td>\n",
       "    </tr>\n",
       "  </tbody>\n",
       "</table>\n",
       "</div>"
      ],
      "text/plain": [
       "0                              NAME Home Owners    MSA\n",
       "1  Aguadilla-Isabela, PR Metro Area      110765  10380\n",
       "2            Arecibo, PR Metro Area       68222  11640\n",
       "3            Guayama, PR Metro Area       29865  25020\n",
       "4           Mayagüez, PR Metro Area       36919  32420\n",
       "5              Ponce, PR Metro Area      112269  38660"
      ]
     },
     "execution_count": 212,
     "metadata": {},
     "output_type": "execute_result"
    }
   ],
   "source": [
    "#tenur\n",
    "tenure_df2 = tenure_df.drop([0])\n",
    "tenure_df = tenure_df2.rename(columns={\"B25003_001E\":\"Home Owners\" , \"metropolitan statistical area/micropolitan statistical area\" : \"MSA\"})\n",
    "tenure_df.head()"
   ]
  },
  {
   "cell_type": "code",
   "execution_count": 213,
   "metadata": {},
   "outputs": [
    {
     "data": {
      "text/html": [
       "<div>\n",
       "<style scoped>\n",
       "    .dataframe tbody tr th:only-of-type {\n",
       "        vertical-align: middle;\n",
       "    }\n",
       "\n",
       "    .dataframe tbody tr th {\n",
       "        vertical-align: top;\n",
       "    }\n",
       "\n",
       "    .dataframe thead th {\n",
       "        text-align: right;\n",
       "    }\n",
       "</style>\n",
       "<table border=\"1\" class=\"dataframe\">\n",
       "  <thead>\n",
       "    <tr style=\"text-align: right;\">\n",
       "      <th></th>\n",
       "      <th>NAME</th>\n",
       "      <th>Married</th>\n",
       "      <th>MSA</th>\n",
       "    </tr>\n",
       "  </thead>\n",
       "  <tbody>\n",
       "    <tr>\n",
       "      <th>1</th>\n",
       "      <td>Aguadilla-Isabela, PR Metro Area</td>\n",
       "      <td>269254</td>\n",
       "      <td>10380</td>\n",
       "    </tr>\n",
       "    <tr>\n",
       "      <th>2</th>\n",
       "      <td>Arecibo, PR Metro Area</td>\n",
       "      <td>160423</td>\n",
       "      <td>11640</td>\n",
       "    </tr>\n",
       "    <tr>\n",
       "      <th>3</th>\n",
       "      <td>Guayama, PR Metro Area</td>\n",
       "      <td>65887</td>\n",
       "      <td>25020</td>\n",
       "    </tr>\n",
       "    <tr>\n",
       "      <th>4</th>\n",
       "      <td>Mayagüez, PR Metro Area</td>\n",
       "      <td>86002</td>\n",
       "      <td>32420</td>\n",
       "    </tr>\n",
       "    <tr>\n",
       "      <th>5</th>\n",
       "      <td>Ponce, PR Metro Area</td>\n",
       "      <td>270107</td>\n",
       "      <td>38660</td>\n",
       "    </tr>\n",
       "  </tbody>\n",
       "</table>\n",
       "</div>"
      ],
      "text/plain": [
       "0                              NAME Married    MSA\n",
       "1  Aguadilla-Isabela, PR Metro Area  269254  10380\n",
       "2            Arecibo, PR Metro Area  160423  11640\n",
       "3            Guayama, PR Metro Area   65887  25020\n",
       "4           Mayagüez, PR Metro Area   86002  32420\n",
       "5              Ponce, PR Metro Area  270107  38660"
      ]
     },
     "execution_count": 213,
     "metadata": {},
     "output_type": "execute_result"
    }
   ],
   "source": [
    "#Married\n",
    "married_df2 = married_df.drop([0])\n",
    "married_df = married_df2.rename(columns={\"B12001_001E\":\"Married\" , \"metropolitan statistical area/micropolitan statistical area\" : \"MSA\"})\n",
    "married_df.head()"
   ]
  },
  {
   "cell_type": "code",
   "execution_count": 214,
   "metadata": {},
   "outputs": [
    {
     "data": {
      "text/html": [
       "<div>\n",
       "<style scoped>\n",
       "    .dataframe tbody tr th:only-of-type {\n",
       "        vertical-align: middle;\n",
       "    }\n",
       "\n",
       "    .dataframe tbody tr th {\n",
       "        vertical-align: top;\n",
       "    }\n",
       "\n",
       "    .dataframe thead th {\n",
       "        text-align: right;\n",
       "    }\n",
       "</style>\n",
       "<table border=\"1\" class=\"dataframe\">\n",
       "  <thead>\n",
       "    <tr style=\"text-align: right;\">\n",
       "      <th></th>\n",
       "      <th>NAME</th>\n",
       "      <th>FTE</th>\n",
       "      <th>MSA</th>\n",
       "    </tr>\n",
       "  </thead>\n",
       "  <tbody>\n",
       "    <tr>\n",
       "      <th>1</th>\n",
       "      <td>Aguadilla-Isabela, PR Metro Area</td>\n",
       "      <td>209864</td>\n",
       "      <td>10380</td>\n",
       "    </tr>\n",
       "    <tr>\n",
       "      <th>2</th>\n",
       "      <td>Arecibo, PR Metro Area</td>\n",
       "      <td>123553</td>\n",
       "      <td>11640</td>\n",
       "    </tr>\n",
       "    <tr>\n",
       "      <th>3</th>\n",
       "      <td>Guayama, PR Metro Area</td>\n",
       "      <td>52584</td>\n",
       "      <td>25020</td>\n",
       "    </tr>\n",
       "    <tr>\n",
       "      <th>4</th>\n",
       "      <td>Mayagüez, PR Metro Area</td>\n",
       "      <td>64355</td>\n",
       "      <td>32420</td>\n",
       "    </tr>\n",
       "    <tr>\n",
       "      <th>5</th>\n",
       "      <td>Ponce, PR Metro Area</td>\n",
       "      <td>210249</td>\n",
       "      <td>38660</td>\n",
       "    </tr>\n",
       "  </tbody>\n",
       "</table>\n",
       "</div>"
      ],
      "text/plain": [
       "0                              NAME     FTE    MSA\n",
       "1  Aguadilla-Isabela, PR Metro Area  209864  10380\n",
       "2            Arecibo, PR Metro Area  123553  11640\n",
       "3            Guayama, PR Metro Area   52584  25020\n",
       "4           Mayagüez, PR Metro Area   64355  32420\n",
       "5              Ponce, PR Metro Area  210249  38660"
      ]
     },
     "execution_count": 214,
     "metadata": {},
     "output_type": "execute_result"
    }
   ],
   "source": [
    "#Full Time WEmployment (FTE)\n",
    "FTE_df2 = FTE_df.drop([0])\n",
    "FTE_df = FTE_df2.rename(columns={\"C23022_001E\":\"FTE\" , \"metropolitan statistical area/micropolitan statistical area\" : \"MSA\"})\n",
    "FTE_df.head()"
   ]
  },
  {
   "cell_type": "markdown",
   "metadata": {},
   "source": [
    "        \n",
    "        \n",
    "        Combine columns"
   ]
  },
  {
   "cell_type": "code",
   "execution_count": 215,
   "metadata": {},
   "outputs": [],
   "source": [
    "tenure_df = tenure_df.drop('MSA', axis =1)\n",
    "married_df = married_df.drop('MSA', axis =1)\n",
    "FTE_df = FTE_df.drop('MSA', axis =1)"
   ]
  },
  {
   "cell_type": "code",
   "execution_count": 216,
   "metadata": {},
   "outputs": [
    {
     "data": {
      "text/html": [
       "<div>\n",
       "<style scoped>\n",
       "    .dataframe tbody tr th:only-of-type {\n",
       "        vertical-align: middle;\n",
       "    }\n",
       "\n",
       "    .dataframe tbody tr th {\n",
       "        vertical-align: top;\n",
       "    }\n",
       "\n",
       "    .dataframe thead th {\n",
       "        text-align: right;\n",
       "    }\n",
       "</style>\n",
       "<table border=\"1\" class=\"dataframe\">\n",
       "  <thead>\n",
       "    <tr style=\"text-align: right;\">\n",
       "      <th></th>\n",
       "      <th>NAME</th>\n",
       "      <th>FTE</th>\n",
       "    </tr>\n",
       "  </thead>\n",
       "  <tbody>\n",
       "    <tr>\n",
       "      <th>1</th>\n",
       "      <td>Aguadilla-Isabela, PR Metro Area</td>\n",
       "      <td>209864</td>\n",
       "    </tr>\n",
       "    <tr>\n",
       "      <th>2</th>\n",
       "      <td>Arecibo, PR Metro Area</td>\n",
       "      <td>123553</td>\n",
       "    </tr>\n",
       "    <tr>\n",
       "      <th>3</th>\n",
       "      <td>Guayama, PR Metro Area</td>\n",
       "      <td>52584</td>\n",
       "    </tr>\n",
       "    <tr>\n",
       "      <th>4</th>\n",
       "      <td>Mayagüez, PR Metro Area</td>\n",
       "      <td>64355</td>\n",
       "    </tr>\n",
       "    <tr>\n",
       "      <th>5</th>\n",
       "      <td>Ponce, PR Metro Area</td>\n",
       "      <td>210249</td>\n",
       "    </tr>\n",
       "  </tbody>\n",
       "</table>\n",
       "</div>"
      ],
      "text/plain": [
       "0                              NAME     FTE\n",
       "1  Aguadilla-Isabela, PR Metro Area  209864\n",
       "2            Arecibo, PR Metro Area  123553\n",
       "3            Guayama, PR Metro Area   52584\n",
       "4           Mayagüez, PR Metro Area   64355\n",
       "5              Ponce, PR Metro Area  210249"
      ]
     },
     "execution_count": 216,
     "metadata": {},
     "output_type": "execute_result"
    }
   ],
   "source": [
    "FTE_df.head()"
   ]
  },
  {
   "cell_type": "code",
   "execution_count": 217,
   "metadata": {},
   "outputs": [
    {
     "data": {
      "text/html": [
       "<div>\n",
       "<style scoped>\n",
       "    .dataframe tbody tr th:only-of-type {\n",
       "        vertical-align: middle;\n",
       "    }\n",
       "\n",
       "    .dataframe tbody tr th {\n",
       "        vertical-align: top;\n",
       "    }\n",
       "\n",
       "    .dataframe thead th {\n",
       "        text-align: right;\n",
       "    }\n",
       "</style>\n",
       "<table border=\"1\" class=\"dataframe\">\n",
       "  <thead>\n",
       "    <tr style=\"text-align: right;\">\n",
       "      <th></th>\n",
       "      <th>NAME</th>\n",
       "      <th>Home Owners</th>\n",
       "      <th>FTE</th>\n",
       "      <th>Married</th>\n",
       "    </tr>\n",
       "  </thead>\n",
       "  <tbody>\n",
       "    <tr>\n",
       "      <th>0</th>\n",
       "      <td>Aguadilla-Isabela, PR Metro Area</td>\n",
       "      <td>110765</td>\n",
       "      <td>209864</td>\n",
       "      <td>269254</td>\n",
       "    </tr>\n",
       "    <tr>\n",
       "      <th>1</th>\n",
       "      <td>Arecibo, PR Metro Area</td>\n",
       "      <td>68222</td>\n",
       "      <td>123553</td>\n",
       "      <td>160423</td>\n",
       "    </tr>\n",
       "    <tr>\n",
       "      <th>2</th>\n",
       "      <td>Guayama, PR Metro Area</td>\n",
       "      <td>29865</td>\n",
       "      <td>52584</td>\n",
       "      <td>65887</td>\n",
       "    </tr>\n",
       "    <tr>\n",
       "      <th>3</th>\n",
       "      <td>Mayagüez, PR Metro Area</td>\n",
       "      <td>36919</td>\n",
       "      <td>64355</td>\n",
       "      <td>86002</td>\n",
       "    </tr>\n",
       "    <tr>\n",
       "      <th>4</th>\n",
       "      <td>Ponce, PR Metro Area</td>\n",
       "      <td>112269</td>\n",
       "      <td>210249</td>\n",
       "      <td>270107</td>\n",
       "    </tr>\n",
       "  </tbody>\n",
       "</table>\n",
       "</div>"
      ],
      "text/plain": [
       "0                              NAME Home Owners     FTE Married\n",
       "0  Aguadilla-Isabela, PR Metro Area      110765  209864  269254\n",
       "1            Arecibo, PR Metro Area       68222  123553  160423\n",
       "2            Guayama, PR Metro Area       29865   52584   65887\n",
       "3           Mayagüez, PR Metro Area       36919   64355   86002\n",
       "4              Ponce, PR Metro Area      112269  210249  270107"
      ]
     },
     "execution_count": 217,
     "metadata": {},
     "output_type": "execute_result"
    }
   ],
   "source": [
    "tenure_married_FTE_df = pd.merge(tenure_df, FTE_df, on='NAME', how=\"inner\")\n",
    "tenure_married_FTE_df2 = pd.merge(tenure_married_FTE_df, married_df, on='NAME', how=\"inner\")\n",
    "tenure_married_FTE_df = tenure_married_FTE_df2\n",
    "tenure_married_FTE_df.head()"
   ]
  },
  {
   "cell_type": "code",
   "execution_count": null,
   "metadata": {},
   "outputs": [],
   "source": []
  },
  {
   "cell_type": "code",
   "execution_count": null,
   "metadata": {},
   "outputs": [],
   "source": []
  }
 ],
 "metadata": {
  "celltoolbar": "Raw Cell Format",
  "kernelspec": {
   "display_name": "Python 3",
   "language": "python",
   "name": "python3"
  },
  "language_info": {
   "codemirror_mode": {
    "name": "ipython",
    "version": 3
   },
   "file_extension": ".py",
   "mimetype": "text/x-python",
   "name": "python",
   "nbconvert_exporter": "python",
   "pygments_lexer": "ipython3",
   "version": "3.6.4"
  }
 },
 "nbformat": 4,
 "nbformat_minor": 2
}
