{
 "cells": [
  {
   "cell_type": "code",
   "execution_count": 16,
   "metadata": {},
   "outputs": [],
   "source": [
    "import numpy as np\n",
    "import pandas as pd\n",
    "import matplotlib.pyplot as plt\n",
    "from matplotlib import style\n",
    "import requests\n",
    "import json"
   ]
  },
  {
   "cell_type": "code",
   "execution_count": 17,
   "metadata": {},
   "outputs": [],
   "source": [
    "apikey = \"b399f5a7a24bf7be63e60ce7c22d1cb6e294e92b\"\n",
    "url = 'https://api.census.gov/data/2013/acs1?get=NAME,B10010_001E&for=metropolitan%20statistical%20area/micropolitan%20statistical%20area:*&key=' + apikey\n"
   ]
  },
  {
   "cell_type": "code",
   "execution_count": 18,
   "metadata": {},
   "outputs": [],
   "source": [
    "data = requests.get(url)\n",
    "data2 = data.json()\n"
   ]
  },
  {
   "cell_type": "code",
   "execution_count": 20,
   "metadata": {},
   "outputs": [],
   "source": [
    "df = pd.DataFrame(data2)"
   ]
  },
  {
   "cell_type": "code",
   "execution_count": 23,
   "metadata": {},
   "outputs": [
    {
     "data": {
      "text/html": [
       "<div>\n",
       "<style scoped>\n",
       "    .dataframe tbody tr th:only-of-type {\n",
       "        vertical-align: middle;\n",
       "    }\n",
       "\n",
       "    .dataframe tbody tr th {\n",
       "        vertical-align: top;\n",
       "    }\n",
       "\n",
       "    .dataframe thead th {\n",
       "        text-align: right;\n",
       "    }\n",
       "</style>\n",
       "<table border=\"1\" class=\"dataframe\">\n",
       "  <thead>\n",
       "    <tr style=\"text-align: right;\">\n",
       "      <th></th>\n",
       "      <th>NAME</th>\n",
       "      <th>B10010_001E</th>\n",
       "      <th>metropolitan statistical area/micropolitan statistical area</th>\n",
       "    </tr>\n",
       "  </thead>\n",
       "  <tbody>\n",
       "    <tr>\n",
       "      <th>0</th>\n",
       "      <td>NAME</td>\n",
       "      <td>B10010_001E</td>\n",
       "      <td>metropolitan statistical area/micropolitan sta...</td>\n",
       "    </tr>\n",
       "    <tr>\n",
       "      <th>1</th>\n",
       "      <td>Aguadilla-Isabela, PR Metro Area</td>\n",
       "      <td>16417</td>\n",
       "      <td>10380</td>\n",
       "    </tr>\n",
       "    <tr>\n",
       "      <th>2</th>\n",
       "      <td>Arecibo, PR Metro Area</td>\n",
       "      <td>19043</td>\n",
       "      <td>11640</td>\n",
       "    </tr>\n",
       "    <tr>\n",
       "      <th>3</th>\n",
       "      <td>Guayama, PR Metro Area</td>\n",
       "      <td>6654</td>\n",
       "      <td>25020</td>\n",
       "    </tr>\n",
       "    <tr>\n",
       "      <th>4</th>\n",
       "      <td>Mayagüez, PR Metro Area</td>\n",
       "      <td>15898</td>\n",
       "      <td>32420</td>\n",
       "    </tr>\n",
       "  </tbody>\n",
       "</table>\n",
       "</div>"
      ],
      "text/plain": [
       "0                              NAME  B10010_001E  \\\n",
       "0                              NAME  B10010_001E   \n",
       "1  Aguadilla-Isabela, PR Metro Area        16417   \n",
       "2            Arecibo, PR Metro Area        19043   \n",
       "3            Guayama, PR Metro Area         6654   \n",
       "4           Mayagüez, PR Metro Area        15898   \n",
       "\n",
       "0 metropolitan statistical area/micropolitan statistical area  \n",
       "0  metropolitan statistical area/micropolitan sta...           \n",
       "1                                              10380           \n",
       "2                                              11640           \n",
       "3                                              25020           \n",
       "4                                              32420           "
      ]
     },
     "execution_count": 23,
     "metadata": {},
     "output_type": "execute_result"
    }
   ],
   "source": [
    "df.columns = df.iloc[0]\n"
   ]
  },
  {
   "cell_type": "code",
   "execution_count": 30,
   "metadata": {},
   "outputs": [
    {
     "data": {
      "text/html": [
       "<div>\n",
       "<style scoped>\n",
       "    .dataframe tbody tr th:only-of-type {\n",
       "        vertical-align: middle;\n",
       "    }\n",
       "\n",
       "    .dataframe tbody tr th {\n",
       "        vertical-align: top;\n",
       "    }\n",
       "\n",
       "    .dataframe thead th {\n",
       "        text-align: right;\n",
       "    }\n",
       "</style>\n",
       "<table border=\"1\" class=\"dataframe\">\n",
       "  <thead>\n",
       "    <tr style=\"text-align: right;\">\n",
       "      <th></th>\n",
       "      <th>NAME</th>\n",
       "      <th>Median Income</th>\n",
       "      <th>Stat. Area</th>\n",
       "    </tr>\n",
       "  </thead>\n",
       "  <tbody>\n",
       "    <tr>\n",
       "      <th>1</th>\n",
       "      <td>Aguadilla-Isabela, PR Metro Area</td>\n",
       "      <td>16417</td>\n",
       "      <td>10380</td>\n",
       "    </tr>\n",
       "    <tr>\n",
       "      <th>2</th>\n",
       "      <td>Arecibo, PR Metro Area</td>\n",
       "      <td>19043</td>\n",
       "      <td>11640</td>\n",
       "    </tr>\n",
       "    <tr>\n",
       "      <th>3</th>\n",
       "      <td>Guayama, PR Metro Area</td>\n",
       "      <td>6654</td>\n",
       "      <td>25020</td>\n",
       "    </tr>\n",
       "    <tr>\n",
       "      <th>4</th>\n",
       "      <td>Mayagüez, PR Metro Area</td>\n",
       "      <td>15898</td>\n",
       "      <td>32420</td>\n",
       "    </tr>\n",
       "    <tr>\n",
       "      <th>5</th>\n",
       "      <td>Ponce, PR Metro Area</td>\n",
       "      <td>15148</td>\n",
       "      <td>38660</td>\n",
       "    </tr>\n",
       "  </tbody>\n",
       "</table>\n",
       "</div>"
      ],
      "text/plain": [
       "0                              NAME Median Income Stat. Area\n",
       "1  Aguadilla-Isabela, PR Metro Area         16417      10380\n",
       "2            Arecibo, PR Metro Area         19043      11640\n",
       "3            Guayama, PR Metro Area          6654      25020\n",
       "4           Mayagüez, PR Metro Area         15898      32420\n",
       "5              Ponce, PR Metro Area         15148      38660"
      ]
     },
     "execution_count": 30,
     "metadata": {},
     "output_type": "execute_result"
    }
   ],
   "source": [
    "df2= df.drop([0])\n",
    "df2 = df2.rename(columns={\"B10010_001E\":\"Median Income\" , \"metropolitan statistical area/micropolitan statistical area\" : \"Stat. Area\"})\n"
   ]
  },
  {
   "cell_type": "code",
   "execution_count": 31,
   "metadata": {},
   "outputs": [
    {
     "data": {
      "image/png": "[encoded data removed]",
      "text/plain": [
       "<matplotlib.figure.Figure at 0x2941e889d30>"
      ]
     },
     "metadata": {},
     "output_type": "display_data"
    }
   ],
   "source": [
    "Cities = df2[\"NAME\"]\n",
    "YValue = df2[\"Median Income\"]\n",
    "x_axis = np.arange(len(Cities))\n",
    "plt.bar(x_axis, YValue, color=\"b\", align=\"edge\")\n",
    "tick_locations = [value+0.4 for value in x_axis]\n",
    "plt.show()"
   ]
  },
  {
   "cell_type": "code",
   "execution_count": null,
   "metadata": {},
   "outputs": [],
   "source": []
  }
 ],
 "metadata": {
  "kernelspec": {
   "display_name": "Python [conda env:PythonData]",
   "language": "python",
   "name": "conda-env-PythonData-py"
  },
  "language_info": {
   "codemirror_mode": {
    "name": "ipython",
    "version": 3
   },
   "file_extension": ".py",
   "mimetype": "text/x-python",
   "name": "python",
   "nbconvert_exporter": "python",
   "pygments_lexer": "ipython3",
   "version": "3.6.4"
  }
 },
 "nbformat": 4,
 "nbformat_minor": 2
}
