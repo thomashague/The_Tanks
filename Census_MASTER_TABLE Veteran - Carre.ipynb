{
 "cells": [
  {
   "cell_type": "code",
   "execution_count": 1,
   "metadata": {},
   "outputs": [],
   "source": [
    "# Dependencies\n",
    "import json\n",
    "import requests\n",
    "import pandas as pd\n",
    "import matplotlib.pyplot as plt\n",
    "from matplotlib import style\n",
    "import matplotlib.ticker as tkr\n"
   ]
  },
  {
   "cell_type": "code",
   "execution_count": 2,
   "metadata": {},
   "outputs": [],
   "source": [
    "api_key = '3286c138a388ef8b9e598517a438a480860463e3'"
   ]
  },
  {
   "cell_type": "code",
   "execution_count": 3,
   "metadata": {},
   "outputs": [],
   "source": [
    "# Vacant housing units = B25004_001E, \n",
    "# median home value = B25077_001E\n",
    "# median year structures built = B25035_001E\n",
    "url = 'https://api.census.gov/data/2013/acs1?get=NAME,B01003_001E,B25004_001E,B25077_001E,B25035_001E,B10010_001E,B15003_017E,B15003_021E,B15003_022E,B15003_023E,B15003_024E,B15003_025E,B21001_002E,B21001_003E,B02008_001E,B02009_001E,B02010_001E,B02011_001E,B02012_001E,B02013_001E,B05001_002E,B05001_006E,B17001_002E,B24050_002E,B24050_005E,B24050_006E,B24050_007E,B24050_008E,B24050_009E,B24050_012E,B24050_013E,B24050_016E,B24050_020E,B24050_023E,B24050_027E,C23022_001E,B05002_013E&for=congressional%20district:*&key='\n",
    "#url = 'https://api.census.gov/data/2016/acs1?get=*&for=metropolitan%20statistical%20area/micropolitan%20statistical%20area:*&key='\n",
    "\n",
    "#FORS\n",
    "#metropolitan%20statistical%20area/micropolitan%20statistical%20area\n",
    "#state\n",
    "#congressional%20district\n",
    "\n",
    "key_url = url + api_key"
   ]
  },
  {
   "cell_type": "code",
   "execution_count": 4,
   "metadata": {},
   "outputs": [],
   "source": [
    "#base_url = 'https://api.census.gov/data/'\n",
    "#year = '2016/'\n",
    "#datasetAcronym = 'acs1/'\n",
    "#query = '?get='\n",
    "\n",
    "#full_url = base_url + year + datasetAcronym\n",
    "\n",
    "#https://api.census.gov/data/2013/acs1?get=NAME,B02015_009E,B02015_009M&for=state:*&key=your key here\n",
    "\n",
    "columns = {'NAME': 'Name of District',\n",
    "            'B01003_001E' : 'Total Population',\n",
    "            'B25004_001E' : 'Vacant Housing Units',\n",
    "            'B25077_001E' : 'Median Home Value',\n",
    "            'B25035_001E' : 'Median Year Sructures Built',\n",
    "            'B10010_001E' : 'Median Income',\n",
    "            'B15003_022E' : 'XXXXXXXXXXXXXXXX',\n",
    "            'B08013_001E' : 'Movers to different state',\n",
    "            'B08131_001E' : 'Aggregrate Travel Time to Work',\n",
    "            \"B15003_021E\":\"Associates Degree\", \n",
    "            \"B15003_017E\":\"High School Diploma\", \n",
    "            \"B15003_022E\":\"Bachelor's\", \n",
    "            \"B15003_023E\":\"Masters\" , \n",
    "            \"B15003_024E\":\"Professional\" , \n",
    "            \"B15003_025E\":\"Doctorate\",\n",
    "            \"B21001_002E\": \"Veteran\",\n",
    "            \"B21001_003E\": \"Non-Veteran\",\n",
    "            \"B02008_001E\":\"White\", \n",
    "            \"B02009_001E\":\"African American\",\n",
    "            \"B02010_001E\":\"Native American/Alaskan\",\n",
    "            \"B02011_001E\":\"Asian\",\n",
    "            \"B02012_001E\": \"Native Hawaiian/Pacific Islander\",\n",
    "            \"B02013_001E\":\"OtherRace\",\n",
    "            'B05001_002E' : 'U.S. citizen',\n",
    "            'B05001_006E' : 'Non U.S. citizen',\n",
    "            \"B17001_002E\" : \"Income in the past 12 months below poverty level\",\n",
    "            \"B24050_002E\" : \"Agriculture, forestry, fishing and hunting, and mining\",\n",
    "            \"B24050_005E\" : \"Construction\",\n",
    "            \"B24050_006E\" : \"Manufacturing\",\n",
    "            \"B24050_007E\" : \"Wholesale Trade\",\n",
    "            \"B24050_008E\" : \"Retail Trade\",\n",
    "            \"B24050_009E\" : \"Transportation and warehousing, and utilities\",\n",
    "            \"B24050_012E\" : \"INFORMATION\",\n",
    "            \"B24050_013E\" : \"Finance and insurance, and real estate and rental and leasing\",\n",
    "            \"B24050_016E\" : \"Professional, scientific, and management, and administrative and waste management services\",  \n",
    "            \"B24050_020E\" : \"Educational services, and health care and social assistance\",\n",
    "            \"B24050_023E\" : \"Arts, entertainment, and recreation, and accommodation and food services\",\n",
    "            \"B24050_027E\" : \"Public Administration\",\n",
    "           \"C23022_001E\" : \"Total Unemployed\",\n",
    "           \"B05002_013E\" : \"Foreign Born\",\n",
    "           \"B05001_002E\" : \"U.S. citizen, born in the United States\"\n",
    "           \n",
    "           \n",
    "          }\n"
   ]
  },
  {
   "cell_type": "code",
   "execution_count": 5,
   "metadata": {},
   "outputs": [],
   "source": [
    "census_response = requests.get(key_url)\n",
    "census_json = census_response.json()\n",
    "\n",
    "dataFrame =pd.DataFrame(census_json)\n",
    "dataFrame.columns = dataFrame.iloc[0]\n",
    "dataFrame = dataFrame.drop([0])\n",
    "dataFrame = dataFrame.rename(columns=columns)"
   ]
  },
  {
   "cell_type": "code",
   "execution_count": 6,
   "metadata": {},
   "outputs": [
    {
     "data": {
      "text/plain": [
       "Index(['Name of District', 'Total Population', 'Vacant Housing Units',\n",
       "       'Median Home Value', 'Median Year Sructures Built', 'Median Income',\n",
       "       'High School Diploma', 'Associates Degree', 'Bachelor's', 'Masters',\n",
       "       'Professional', 'Doctorate', 'Veteran', 'Non-Veteran', 'White',\n",
       "       'African American', 'Native American/Alaskan', 'Asian',\n",
       "       'Native Hawaiian/Pacific Islander', 'OtherRace',\n",
       "       'U.S. citizen, born in the United States', 'Non U.S. citizen',\n",
       "       'Income in the past 12 months below poverty level',\n",
       "       'Agriculture, forestry, fishing and hunting, and mining',\n",
       "       'Construction', 'Manufacturing', 'Wholesale Trade', 'Retail Trade',\n",
       "       'Transportation and warehousing, and utilities', 'INFORMATION',\n",
       "       'Finance and insurance, and real estate and rental and leasing',\n",
       "       'Professional, scientific, and management, and administrative and waste management services',\n",
       "       'Educational services, and health care and social assistance',\n",
       "       'Arts, entertainment, and recreation, and accommodation and food services',\n",
       "       'Public Administration', 'Total Unemployed', 'Foreign Born', 'state',\n",
       "       'congressional district'],\n",
       "      dtype='object', name=0)"
      ]
     },
     "execution_count": 6,
     "metadata": {},
     "output_type": "execute_result"
    }
   ],
   "source": [
    "dataFrame.columns"
   ]
  },
  {
   "cell_type": "code",
   "execution_count": 7,
   "metadata": {},
   "outputs": [],
   "source": [
    "#covert isolated dataframe to numeric\n",
    "isolated = dataFrame[(dataFrame['Name of District'] == \"Congressional District 45 (113th Congress), California\")]\n",
    "isoNumeric = isolated['Total Population']   \n",
    "isoNumeric = pd.to_numeric(isoNumeric)"
   ]
  },
  {
   "cell_type": "code",
   "execution_count": 8,
   "metadata": {},
   "outputs": [
    {
     "data": {
      "text/plain": [
       "731679.4622425629"
      ]
     },
     "execution_count": 8,
     "metadata": {},
     "output_type": "execute_result"
    }
   ],
   "source": [
    "#find average population of congressional district\n",
    "s = dataFrame['Total Population']\n",
    "s = pd.to_numeric(s)\n",
    "avg_pop = s.mean()\n",
    "avg_pop"
   ]
  },
  {
   "cell_type": "code",
   "execution_count": 9,
   "metadata": {},
   "outputs": [
    {
     "data": {
      "text/plain": [
       "733706.0"
      ]
     },
     "execution_count": 9,
     "metadata": {},
     "output_type": "execute_result"
    }
   ],
   "source": [
    "#find population of irvine congress district\n",
    "isolated_pop = isolated['Total Population'].mean()\n",
    "isolated_pop"
   ]
  },
  {
   "cell_type": "code",
   "execution_count": 10,
   "metadata": {},
   "outputs": [],
   "source": [
    "popNames = ['Congressional District 45', 'Average']\n",
    "popNums = [isolated_pop, avg_pop]"
   ]
  },
  {
   "cell_type": "code",
   "execution_count": 11,
   "metadata": {},
   "outputs": [
    {
     "data": {
      "image/png": "[encoded data removed]",
      "text/plain": [
       "<matplotlib.figure.Figure at 0x249cf7db908>"
      ]
     },
     "metadata": {},
     "output_type": "display_data"
    }
   ],
   "source": [
    "plt.bar(popNames, popNums, align='center', alpha=0.5)\n",
    "plt.ylabel('Total Population')\n",
    "plt.title('Disctrict vs. Average Population')\n",
    "axes = plt.gca()\n",
    "min_pop = s.min()\n",
    "max_pop = s.max()\n",
    "axes.set_ylim([min_pop,800000])\n",
    "plt.show()"
   ]
  },
  {
   "cell_type": "markdown",
   "metadata": {
    "collapsed": true
   },
   "source": [
    "## Carre's Graphs - Start HERE"
   ]
  },
  {
   "cell_type": "markdown",
   "metadata": {},
   "source": [
    "## Remember to fix Bachelor's above - It's in the URL twice.  Also US Citizen is in the url twice"
   ]
  },
  {
   "cell_type": "code",
   "execution_count": 16,
   "metadata": {},
   "outputs": [
    {
     "data": {
      "image/png": "[encoded data removed]",
      "text/plain": [
       "<matplotlib.figure.Figure at 0x249cf92dcc0>"
      ]
     },
     "metadata": {},
     "output_type": "display_data"
    }
   ],
   "source": [
    "VeteranGraph = dataFrame[[\"Name of District\",\"Veteran\",\"Non-Veteran\"]]\n",
    "VeteranGraph= pd.DataFrame(VeteranGraph)\n",
    "\n",
    "IrvineVet = VeteranGraph[(VeteranGraph['Name of District'] == \"Congressional District 45 (113th Congress), California\")]\n",
    "VetTranspose = IrvineVet.T\n",
    "VetData = VetTranspose.drop([\"Name of District\"])\n",
    "VetData[66] = VetData[66].astype(str).astype(int)\n",
    "data2 = VetData[66]\n",
    "labels = \"Veteran\",\"Non-Veteran\"\n",
    "figure(1, figsize=(6,6))\n",
    "\n",
    "fracs = data2\n",
    "pie(fracs, labels=labels,\n",
    "                startangle=90)\n",
    "title(\"Veteran Vs Non-Veteran Population\", fontsize = 20)\n",
    "\n",
    "show()\n",
    "\n",
    "\n"
   ]
  },
  {
   "cell_type": "code",
   "execution_count": null,
   "metadata": {},
   "outputs": [],
   "source": []
  },
  {
   "cell_type": "code",
   "execution_count": null,
   "metadata": {},
   "outputs": [],
   "source": []
  }
 ],
 "metadata": {
  "kernelspec": {
   "display_name": "Python [default]",
   "language": "python",
   "name": "python3"
  },
  "language_info": {
   "codemirror_mode": {
    "name": "ipython",
    "version": 3
   },
   "file_extension": ".py",
   "mimetype": "text/x-python",
   "name": "python",
   "nbconvert_exporter": "python",
   "pygments_lexer": "ipython3",
   "version": "3.6.4"
  }
 },
 "nbformat": 4,
 "nbformat_minor": 2
}
