{
 "cells": [
  {
   "cell_type": "code",
   "execution_count": 117,
   "metadata": {},
   "outputs": [],
   "source": [
    "# Dependencies\n",
    "import json\n",
    "import requests\n",
    "import pandas as pd\n",
    "import matplotlib.pyplot as plt\n",
    "from matplotlib import style\n"
   ]
  },
  {
   "cell_type": "code",
   "execution_count": 118,
   "metadata": {},
   "outputs": [],
   "source": [
    "api_key = '3286c138a388ef8b9e598517a438a480860463e3'"
   ]
  },
  {
   "cell_type": "code",
   "execution_count": 119,
   "metadata": {},
   "outputs": [],
   "source": [
    "# Vacant housing units = B25004_001E, \n",
    "# median home value = B25077_001E\n",
    "# median year structures built = B25035_001E\n",
    "#**************url = 'https://api.census.gov/data/2013/acs1?get=NAME,B01003_001E,B25004_001E,B25077_001E,B25035_001E,B10010_001E,B15003_022E,B15003_017E,B15003_021E,B15003_022E,B15003_023E,B15003_024E,B15003_025E,B21001_002E,B21001_003E,B02008_001E,B02009_001E,B02010_001E,B02011_001E,B02012_001E,B02013_001E,B05001_002E,B05001_006E,B17001_002E,B24050_002E,B24050_005E,B24050_006E,B24050_007E,B24050_008E,B24050_009E,B24050_012E,B24050_013E,B24050_016E,B24050_020E,B24050_023E,B24050_027E,C23022_001E,B05002_013E&for=congressional%20district:*&key='\n",
    "url = 'https://api.census.gov/data/2015/acs1?get=NAME,B01003_001E,B17001_002E&for=congressional%20district:*&key='\n",
    "\n",
    "#url = 'https://api.census.gov/data/2016/acs1?get=*&for=metropolitan%20statistical%20area/micropolitan%20statistical%20area:*&key='\n",
    "\n",
    "#FORS\n",
    "#metropolitan%20statistical%20area/micropolitan%20statistical%20area\n",
    "#state\n",
    "#congressional%20district\n",
    "\n",
    "key_url = url + api_key"
   ]
  },
  {
   "cell_type": "code",
   "execution_count": 120,
   "metadata": {},
   "outputs": [],
   "source": [
    "#base_url = 'https://api.census.gov/data/'\n",
    "#year = '2016/'\n",
    "#datasetAcronym = 'acs1/'\n",
    "#query = '?get='\n",
    "\n",
    "#full_url = base_url + year + datasetAcronym\n",
    "\n",
    "#https://api.census.gov/data/2013/acs1?get=NAME,B02015_009E,B02015_009M&for=state:*&key=your key here\n",
    "\n",
    "columns = {'NAME': 'Name of District',\n",
    "            'B01003_001E' : 'Total Population',\n",
    "            \"B17001_002E\" : \"Income in the past 12 months below poverty level\",\n",
    "           \n",
    "           \n",
    "          }\n"
   ]
  },
  {
   "cell_type": "code",
   "execution_count": 121,
   "metadata": {},
   "outputs": [],
   "source": [
    "census_response = requests.get(key_url)\n",
    "census_json = census_response.json()\n",
    "\n",
    "dataFrame =pd.DataFrame(census_json)\n",
    "dataFrame.columns = dataFrame.iloc[0]\n",
    "dataFrame = dataFrame.drop([0])\n",
    "dataFrame = dataFrame.rename(columns=columns)"
   ]
  },
  {
   "cell_type": "code",
   "execution_count": 123,
   "metadata": {},
   "outputs": [
    {
     "data": {
      "text/html": [
       "<div>\n",
       "<style scoped>\n",
       "    .dataframe tbody tr th:only-of-type {\n",
       "        vertical-align: middle;\n",
       "    }\n",
       "\n",
       "    .dataframe tbody tr th {\n",
       "        vertical-align: top;\n",
       "    }\n",
       "\n",
       "    .dataframe thead th {\n",
       "        text-align: right;\n",
       "    }\n",
       "</style>\n",
       "<table border=\"1\" class=\"dataframe\">\n",
       "  <thead>\n",
       "    <tr style=\"text-align: right;\">\n",
       "      <th></th>\n",
       "      <th>Name of District</th>\n",
       "      <th>C23022_001E</th>\n",
       "      <th>state</th>\n",
       "      <th>congressional district</th>\n",
       "    </tr>\n",
       "  </thead>\n",
       "  <tbody>\n",
       "    <tr>\n",
       "      <th>1</th>\n",
       "      <td>Congressional District 1 (114th Congress), Ala...</td>\n",
       "      <td>443698</td>\n",
       "      <td>01</td>\n",
       "      <td>01</td>\n",
       "    </tr>\n",
       "    <tr>\n",
       "      <th>2</th>\n",
       "      <td>Congressional District 2 (114th Congress), Ala...</td>\n",
       "      <td>436888</td>\n",
       "      <td>01</td>\n",
       "      <td>02</td>\n",
       "    </tr>\n",
       "    <tr>\n",
       "      <th>3</th>\n",
       "      <td>Congressional District 3 (114th Congress), Ala...</td>\n",
       "      <td>456973</td>\n",
       "      <td>01</td>\n",
       "      <td>03</td>\n",
       "    </tr>\n",
       "    <tr>\n",
       "      <th>4</th>\n",
       "      <td>Congressional District 4 (114th Congress), Ala...</td>\n",
       "      <td>426371</td>\n",
       "      <td>01</td>\n",
       "      <td>04</td>\n",
       "    </tr>\n",
       "    <tr>\n",
       "      <th>5</th>\n",
       "      <td>Congressional District 5 (114th Congress), Ala...</td>\n",
       "      <td>461485</td>\n",
       "      <td>01</td>\n",
       "      <td>05</td>\n",
       "    </tr>\n",
       "  </tbody>\n",
       "</table>\n",
       "</div>"
      ],
      "text/plain": [
       "0                                   Name of District C23022_001E state  \\\n",
       "1  Congressional District 1 (114th Congress), Ala...      443698    01   \n",
       "2  Congressional District 2 (114th Congress), Ala...      436888    01   \n",
       "3  Congressional District 3 (114th Congress), Ala...      456973    01   \n",
       "4  Congressional District 4 (114th Congress), Ala...      426371    01   \n",
       "5  Congressional District 5 (114th Congress), Ala...      461485    01   \n",
       "\n",
       "0 congressional district  \n",
       "1                     01  \n",
       "2                     02  \n",
       "3                     03  \n",
       "4                     04  \n",
       "5                     05  "
      ]
     },
     "execution_count": 123,
     "metadata": {},
     "output_type": "execute_result"
    }
   ],
   "source": [
    "dataFrame.head()\n",
    "\n"
   ]
  },
  {
   "cell_type": "code",
   "execution_count": 18,
   "metadata": {},
   "outputs": [],
   "source": [
    "#covert isolated dataframe to numeric\n",
    "isolated = dataFrame[(dataFrame['Name of District'] == \"Congressional District 45 (113th Congress), California\")]\n",
    "isoNumeric = isolated['Total Population']   \n",
    "isoNumeric = pd.to_numeric(isoNumeric)"
   ]
  },
  {
   "cell_type": "code",
   "execution_count": 19,
   "metadata": {},
   "outputs": [
    {
     "data": {
      "text/plain": [
       "731679.4622425629"
      ]
     },
     "execution_count": 19,
     "metadata": {},
     "output_type": "execute_result"
    }
   ],
   "source": [
    "#find average population of congressional district\n",
    "s = dataFrame['Total Population']\n",
    "s = pd.to_numeric(s)\n",
    "avg_pop = s.mean()\n",
    "avg_pop"
   ]
  },
  {
   "cell_type": "code",
   "execution_count": 20,
   "metadata": {},
   "outputs": [
    {
     "data": {
      "text/plain": [
       "733706.0"
      ]
     },
     "execution_count": 20,
     "metadata": {},
     "output_type": "execute_result"
    }
   ],
   "source": [
    "#find population of irvine congress district\n",
    "isolated_pop = isolated['Total Population'].mean()\n",
    "isolated_pop"
   ]
  },
  {
   "cell_type": "code",
   "execution_count": 21,
   "metadata": {},
   "outputs": [],
   "source": [
    "popNames = ['Congressional District 45', 'Average']\n",
    "popNums = [isolated_pop, avg_pop]"
   ]
  },
  {
   "cell_type": "code",
   "execution_count": 22,
   "metadata": {},
   "outputs": [
    {
     "data": {
      "image/png": "[encoded data removed]",
      "text/plain": [
       "<matplotlib.figure.Figure at 0x262b67572b0>"
      ]
     },
     "metadata": {},
     "output_type": "display_data"
    }
   ],
   "source": [
    "plt.bar(popNames, popNums, align='center', alpha=0.5)\n",
    "plt.ylabel('Total Population')\n",
    "plt.title('Disctrict vs. Average Population')\n",
    "axes = plt.gca()\n",
    "min_pop = s.min()\n",
    "max_pop = s.max()\n",
    "axes.set_ylim([min_pop,800000])\n",
    "plt.show()"
   ]
  },
  {
   "cell_type": "code",
   "execution_count": null,
   "metadata": {},
   "outputs": [],
   "source": []
  },
  {
   "cell_type": "code",
   "execution_count": null,
   "metadata": {},
   "outputs": [],
   "source": []
  },
  {
   "cell_type": "code",
   "execution_count": null,
   "metadata": {},
   "outputs": [],
   "source": []
  },
  {
   "cell_type": "code",
   "execution_count": null,
   "metadata": {},
   "outputs": [],
   "source": []
  },
  {
   "cell_type": "code",
   "execution_count": null,
   "metadata": {},
   "outputs": [],
   "source": []
  }
 ],
 "metadata": {
  "kernelspec": {
   "display_name": "Python 3",
   "language": "python",
   "name": "python3"
  },
  "language_info": {
   "codemirror_mode": {
    "name": "ipython",
    "version": 3
   },
   "file_extension": ".py",
   "mimetype": "text/x-python",
   "name": "python",
   "nbconvert_exporter": "python",
   "pygments_lexer": "ipython3",
   "version": "3.6.4"
  }
 },
 "nbformat": 4,
 "nbformat_minor": 2
}
