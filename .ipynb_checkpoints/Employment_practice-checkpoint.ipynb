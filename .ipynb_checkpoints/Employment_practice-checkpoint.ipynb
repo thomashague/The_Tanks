{
 "cells": [
  {
   "cell_type": "code",
   "execution_count": 379,
   "metadata": {},
   "outputs": [],
   "source": [
    "# Dependencies\n",
    "import json\n",
    "import requests\n",
    "import numpy as np\n",
    "import pandas as pd\n",
    "import matplotlib.pyplot as plt"
   ]
  },
  {
   "cell_type": "code",
   "execution_count": 380,
   "metadata": {},
   "outputs": [],
   "source": [
    "api_key = 'a770489433124a44654119b16edfb8291b8efa25'"
   ]
  },
  {
   "cell_type": "markdown",
   "metadata": {},
   "source": [
    "        End Points"
   ]
  },
  {
   "cell_type": "raw",
   "metadata": {},
   "source": [
    "End Points - URL\n",
    "\n",
    "    Base URL / Host Name                          'https://api.census.gov/data/\n",
    "    + timeseries                                   2012/  ** using 2012 through 2016\n",
    "    + dataset anme acronim                         acs1\n",
    "    + start queary                                 ?\n",
    "    + add evriables starting with get clause       get=NAME,C23022_001E\n",
    "    + predicate clause                             &for=metropolitan%20statistical%20area/micropolitan%20statistical%20area:\n",
    "    + insert key                                   &key='\n",
    "\n",
    "\n",
    "#C23022_001E = sex by full time full time employment status \n",
    "#C23022_002E = sex by full time full time employment status ** \"FT emp - M\" \n",
    "\n",
    "\n",
    "#C23022_007E = sex by full time full time employment status ** \"FT emp - F\" "
   ]
  },
  {
   "cell_type": "code",
   "execution_count": 381,
   "metadata": {},
   "outputs": [],
   "source": [
    "url_2015_employed = 'https://api.census.gov/data/2015/acs1?get=NAME,C23022_001E&for=congressional%20district:*&key='\n",
    "url_2014_employed = 'https://api.census.gov/data/2014/acs1?get=NAME,C23022_001E&for=congressional%20district:*&key='\n",
    "url_2013_employed = 'https://api.census.gov/data/2013/acs1?get=NAME,C23022_001E&for=congressional%20district:*&key='\n",
    "url_2012_employed = 'https://api.census.gov/data/2012/acs1?get=NAME,C23022_001E&for=congressional%20district:*&key='\n"
   ]
  },
  {
   "cell_type": "markdown",
   "metadata": {},
   "source": [
    "        #Queries"
   ]
  },
  {
   "cell_type": "code",
   "execution_count": 382,
   "metadata": {},
   "outputs": [],
   "source": [
    "#query for Full Time Employment 2015 response (FTE)\n",
    "employed_2015_response = requests.get(url_2015_employed)\n",
    "employed_2015_json = employed_2015_response.json()"
   ]
  },
  {
   "cell_type": "code",
   "execution_count": 383,
   "metadata": {},
   "outputs": [],
   "source": [
    "#query for Full Time Employment 2014 response (FTE)\n",
    "employed_2014_response = requests.get(url_2014_employed)\n",
    "employed_2014_json = employed_2014_response.json()"
   ]
  },
  {
   "cell_type": "code",
   "execution_count": 384,
   "metadata": {},
   "outputs": [],
   "source": [
    "#query for Full Time Employment 2013 response (FTE)\n",
    "employed_2013_response = requests.get(url_2013_employed)\n",
    "employed_2013_json = employed_2013_response.json()"
   ]
  },
  {
   "cell_type": "code",
   "execution_count": 385,
   "metadata": {},
   "outputs": [],
   "source": [
    "#query for Full Time Employment 2012 response (FTE)\n",
    "employed_2012_response = requests.get(url_2012_employed)\n",
    "employed_2012_json = employed_2012_response.json()"
   ]
  },
  {
   "cell_type": "code",
   "execution_count": null,
   "metadata": {},
   "outputs": [],
   "source": []
  },
  {
   "cell_type": "markdown",
   "metadata": {},
   "source": [
    "        Look at json files"
   ]
  },
  {
   "cell_type": "code",
   "execution_count": 386,
   "metadata": {},
   "outputs": [
    {
     "data": {
      "text/plain": [
       "[['NAME', 'C23022_001E', 'state', 'congressional district'],\n",
       " ['Congressional District 1 (114th Congress), Alabama', '443698', '01', '01'],\n",
       " ['Congressional District 2 (114th Congress), Alabama', '436888', '01', '02']]"
      ]
     },
     "execution_count": 386,
     "metadata": {},
     "output_type": "execute_result"
    }
   ],
   "source": [
    "#veiw json for full time 2015 employment status\n",
    "employed_2015_json[0:3]"
   ]
  },
  {
   "cell_type": "code",
   "execution_count": 387,
   "metadata": {},
   "outputs": [
    {
     "data": {
      "text/plain": [
       "[['NAME', 'C23022_001E', 'state', 'congressional district'],\n",
       " ['Congressional District 1 (114th Congress), Alabama', '440066', '01', '01'],\n",
       " ['Congressional District 2 (114th Congress), Alabama', '433950', '01', '02']]"
      ]
     },
     "execution_count": 387,
     "metadata": {},
     "output_type": "execute_result"
    }
   ],
   "source": [
    "#veiw json for full time 2014 employment status\n",
    "employed_2014_json[0:3]"
   ]
  },
  {
   "cell_type": "code",
   "execution_count": 388,
   "metadata": {},
   "outputs": [
    {
     "data": {
      "text/plain": [
       "[['NAME', 'C23022_001E', 'state', 'congressional district'],\n",
       " ['Congressional District 1 (113th Congress), Alabama', '441069', '01', '01'],\n",
       " ['Congressional District 2 (113th Congress), Alabama', '441141', '01', '02']]"
      ]
     },
     "execution_count": 388,
     "metadata": {},
     "output_type": "execute_result"
    }
   ],
   "source": [
    "#veiw json for full time 2013 employment status\n",
    "employed_2013_json[0:3]"
   ]
  },
  {
   "cell_type": "code",
   "execution_count": 389,
   "metadata": {},
   "outputs": [
    {
     "data": {
      "text/plain": [
       "[['NAME', 'C23022_001E', 'state', 'congressional district'],\n",
       " ['Congressional District 1 (113th Congress), Alabama', '442343', '01', '01'],\n",
       " ['Congressional District 2 (113th Congress), Alabama', '437883', '01', '02']]"
      ]
     },
     "execution_count": 389,
     "metadata": {},
     "output_type": "execute_result"
    }
   ],
   "source": [
    "#veiw json for full time 2012 employment status\n",
    "employed_2012_json[0:3]"
   ]
  },
  {
   "cell_type": "code",
   "execution_count": null,
   "metadata": {},
   "outputs": [],
   "source": []
  },
  {
   "cell_type": "markdown",
   "metadata": {},
   "source": [
    "        Convert json files to data frames and correct column headings"
   ]
  },
  {
   "cell_type": "code",
   "execution_count": 390,
   "metadata": {},
   "outputs": [
    {
     "data": {
      "text/html": [
       "<div>\n",
       "<style scoped>\n",
       "    .dataframe tbody tr th:only-of-type {\n",
       "        vertical-align: middle;\n",
       "    }\n",
       "\n",
       "    .dataframe tbody tr th {\n",
       "        vertical-align: top;\n",
       "    }\n",
       "\n",
       "    .dataframe thead th {\n",
       "        text-align: right;\n",
       "    }\n",
       "</style>\n",
       "<table border=\"1\" class=\"dataframe\">\n",
       "  <thead>\n",
       "    <tr style=\"text-align: right;\">\n",
       "      <th></th>\n",
       "      <th>NAME</th>\n",
       "      <th>C23022_001E</th>\n",
       "      <th>state</th>\n",
       "      <th>congressional district</th>\n",
       "    </tr>\n",
       "  </thead>\n",
       "  <tbody>\n",
       "    <tr>\n",
       "      <th>0</th>\n",
       "      <td>NAME</td>\n",
       "      <td>C23022_001E</td>\n",
       "      <td>state</td>\n",
       "      <td>congressional district</td>\n",
       "    </tr>\n",
       "    <tr>\n",
       "      <th>1</th>\n",
       "      <td>Congressional District 1 (114th Congress), Ala...</td>\n",
       "      <td>443698</td>\n",
       "      <td>01</td>\n",
       "      <td>01</td>\n",
       "    </tr>\n",
       "    <tr>\n",
       "      <th>2</th>\n",
       "      <td>Congressional District 2 (114th Congress), Ala...</td>\n",
       "      <td>436888</td>\n",
       "      <td>01</td>\n",
       "      <td>02</td>\n",
       "    </tr>\n",
       "  </tbody>\n",
       "</table>\n",
       "</div>"
      ],
      "text/plain": [
       "0                                               NAME  C23022_001E  state  \\\n",
       "0                                               NAME  C23022_001E  state   \n",
       "1  Congressional District 1 (114th Congress), Ala...       443698     01   \n",
       "2  Congressional District 2 (114th Congress), Ala...       436888     01   \n",
       "\n",
       "0  congressional district  \n",
       "0  congressional district  \n",
       "1                      01  \n",
       "2                      02  "
      ]
     },
     "execution_count": 390,
     "metadata": {},
     "output_type": "execute_result"
    }
   ],
   "source": [
    "# Convert FTE 2015 to Data Frame\n",
    "employed_2015_df =pd.DataFrame(employed_2015_json)\n",
    "employed_2015_df.columns = employed_2015_df.iloc[0]\n",
    "employed_2015_df.head(3)\n"
   ]
  },
  {
   "cell_type": "code",
   "execution_count": 391,
   "metadata": {},
   "outputs": [
    {
     "data": {
      "text/html": [
       "<div>\n",
       "<style scoped>\n",
       "    .dataframe tbody tr th:only-of-type {\n",
       "        vertical-align: middle;\n",
       "    }\n",
       "\n",
       "    .dataframe tbody tr th {\n",
       "        vertical-align: top;\n",
       "    }\n",
       "\n",
       "    .dataframe thead th {\n",
       "        text-align: right;\n",
       "    }\n",
       "</style>\n",
       "<table border=\"1\" class=\"dataframe\">\n",
       "  <thead>\n",
       "    <tr style=\"text-align: right;\">\n",
       "      <th></th>\n",
       "      <th>NAME</th>\n",
       "      <th>2015</th>\n",
       "      <th>state</th>\n",
       "      <th>congressional district</th>\n",
       "    </tr>\n",
       "  </thead>\n",
       "  <tbody>\n",
       "    <tr>\n",
       "      <th>1</th>\n",
       "      <td>Congressional District 1 (114th Congress), Ala...</td>\n",
       "      <td>443698</td>\n",
       "      <td>01</td>\n",
       "      <td>01</td>\n",
       "    </tr>\n",
       "    <tr>\n",
       "      <th>2</th>\n",
       "      <td>Congressional District 2 (114th Congress), Ala...</td>\n",
       "      <td>436888</td>\n",
       "      <td>01</td>\n",
       "      <td>02</td>\n",
       "    </tr>\n",
       "    <tr>\n",
       "      <th>3</th>\n",
       "      <td>Congressional District 3 (114th Congress), Ala...</td>\n",
       "      <td>456973</td>\n",
       "      <td>01</td>\n",
       "      <td>03</td>\n",
       "    </tr>\n",
       "    <tr>\n",
       "      <th>4</th>\n",
       "      <td>Congressional District 4 (114th Congress), Ala...</td>\n",
       "      <td>426371</td>\n",
       "      <td>01</td>\n",
       "      <td>04</td>\n",
       "    </tr>\n",
       "    <tr>\n",
       "      <th>5</th>\n",
       "      <td>Congressional District 5 (114th Congress), Ala...</td>\n",
       "      <td>461485</td>\n",
       "      <td>01</td>\n",
       "      <td>05</td>\n",
       "    </tr>\n",
       "  </tbody>\n",
       "</table>\n",
       "</div>"
      ],
      "text/plain": [
       "0                                               NAME    2015 state  \\\n",
       "1  Congressional District 1 (114th Congress), Ala...  443698    01   \n",
       "2  Congressional District 2 (114th Congress), Ala...  436888    01   \n",
       "3  Congressional District 3 (114th Congress), Ala...  456973    01   \n",
       "4  Congressional District 4 (114th Congress), Ala...  426371    01   \n",
       "5  Congressional District 5 (114th Congress), Ala...  461485    01   \n",
       "\n",
       "0 congressional district  \n",
       "1                     01  \n",
       "2                     02  \n",
       "3                     03  \n",
       "4                     04  \n",
       "5                     05  "
      ]
     },
     "execution_count": 391,
     "metadata": {},
     "output_type": "execute_result"
    }
   ],
   "source": [
    "#Change 2015 Column heading\n",
    "employed_2015_df2 = employed_2015_df.drop([0])\n",
    "employed_2015_df = employed_2015_df2.rename(columns={\"C23022_001E\":\"2015\"})\n",
    "employed_2015_df.head()"
   ]
  },
  {
   "cell_type": "code",
   "execution_count": 392,
   "metadata": {},
   "outputs": [
    {
     "data": {
      "text/plain": [
       "0\n",
       "NAME                      object\n",
       "2015                       int64\n",
       "state                     object\n",
       "congressional district    object\n",
       "dtype: object"
      ]
     },
     "execution_count": 392,
     "metadata": {},
     "output_type": "execute_result"
    }
   ],
   "source": [
    "#change year data from object to numeric\n",
    "employed_2015_df['2015'] = pd.to_numeric(employed_2015_df['2015'])\n",
    "\n",
    "employed_2015_df.dtypes"
   ]
  },
  {
   "cell_type": "code",
   "execution_count": null,
   "metadata": {},
   "outputs": [],
   "source": [
    "\n",
    "\n"
   ]
  },
  {
   "cell_type": "code",
   "execution_count": 393,
   "metadata": {},
   "outputs": [
    {
     "data": {
      "text/html": [
       "<div>\n",
       "<style scoped>\n",
       "    .dataframe tbody tr th:only-of-type {\n",
       "        vertical-align: middle;\n",
       "    }\n",
       "\n",
       "    .dataframe tbody tr th {\n",
       "        vertical-align: top;\n",
       "    }\n",
       "\n",
       "    .dataframe thead th {\n",
       "        text-align: right;\n",
       "    }\n",
       "</style>\n",
       "<table border=\"1\" class=\"dataframe\">\n",
       "  <thead>\n",
       "    <tr style=\"text-align: right;\">\n",
       "      <th></th>\n",
       "      <th>NAME</th>\n",
       "      <th>C23022_001E</th>\n",
       "      <th>state</th>\n",
       "      <th>congressional district</th>\n",
       "    </tr>\n",
       "  </thead>\n",
       "  <tbody>\n",
       "    <tr>\n",
       "      <th>0</th>\n",
       "      <td>NAME</td>\n",
       "      <td>C23022_001E</td>\n",
       "      <td>state</td>\n",
       "      <td>congressional district</td>\n",
       "    </tr>\n",
       "    <tr>\n",
       "      <th>1</th>\n",
       "      <td>Congressional District 1 (114th Congress), Ala...</td>\n",
       "      <td>440066</td>\n",
       "      <td>01</td>\n",
       "      <td>01</td>\n",
       "    </tr>\n",
       "    <tr>\n",
       "      <th>2</th>\n",
       "      <td>Congressional District 2 (114th Congress), Ala...</td>\n",
       "      <td>433950</td>\n",
       "      <td>01</td>\n",
       "      <td>02</td>\n",
       "    </tr>\n",
       "    <tr>\n",
       "      <th>3</th>\n",
       "      <td>Congressional District 3 (114th Congress), Ala...</td>\n",
       "      <td>461181</td>\n",
       "      <td>01</td>\n",
       "      <td>03</td>\n",
       "    </tr>\n",
       "    <tr>\n",
       "      <th>4</th>\n",
       "      <td>Congressional District 4 (114th Congress), Ala...</td>\n",
       "      <td>426075</td>\n",
       "      <td>01</td>\n",
       "      <td>04</td>\n",
       "    </tr>\n",
       "  </tbody>\n",
       "</table>\n",
       "</div>"
      ],
      "text/plain": [
       "0                                               NAME  C23022_001E  state  \\\n",
       "0                                               NAME  C23022_001E  state   \n",
       "1  Congressional District 1 (114th Congress), Ala...       440066     01   \n",
       "2  Congressional District 2 (114th Congress), Ala...       433950     01   \n",
       "3  Congressional District 3 (114th Congress), Ala...       461181     01   \n",
       "4  Congressional District 4 (114th Congress), Ala...       426075     01   \n",
       "\n",
       "0  congressional district  \n",
       "0  congressional district  \n",
       "1                      01  \n",
       "2                      02  \n",
       "3                      03  \n",
       "4                      04  "
      ]
     },
     "execution_count": 393,
     "metadata": {},
     "output_type": "execute_result"
    }
   ],
   "source": [
    "# Convert FTE 2014 to Data Frame\n",
    "employed_2014_df =pd.DataFrame(employed_2014_json)\n",
    "employed_2014_df.columns = employed_2014_df.iloc[0]\n",
    "employed_2014_df.head()"
   ]
  },
  {
   "cell_type": "code",
   "execution_count": 394,
   "metadata": {},
   "outputs": [
    {
     "data": {
      "text/html": [
       "<div>\n",
       "<style scoped>\n",
       "    .dataframe tbody tr th:only-of-type {\n",
       "        vertical-align: middle;\n",
       "    }\n",
       "\n",
       "    .dataframe tbody tr th {\n",
       "        vertical-align: top;\n",
       "    }\n",
       "\n",
       "    .dataframe thead th {\n",
       "        text-align: right;\n",
       "    }\n",
       "</style>\n",
       "<table border=\"1\" class=\"dataframe\">\n",
       "  <thead>\n",
       "    <tr style=\"text-align: right;\">\n",
       "      <th></th>\n",
       "      <th>NAME</th>\n",
       "      <th>2014</th>\n",
       "      <th>state</th>\n",
       "      <th>congressional district</th>\n",
       "    </tr>\n",
       "  </thead>\n",
       "  <tbody>\n",
       "    <tr>\n",
       "      <th>1</th>\n",
       "      <td>Congressional District 1 (114th Congress), Ala...</td>\n",
       "      <td>440066</td>\n",
       "      <td>01</td>\n",
       "      <td>01</td>\n",
       "    </tr>\n",
       "    <tr>\n",
       "      <th>2</th>\n",
       "      <td>Congressional District 2 (114th Congress), Ala...</td>\n",
       "      <td>433950</td>\n",
       "      <td>01</td>\n",
       "      <td>02</td>\n",
       "    </tr>\n",
       "    <tr>\n",
       "      <th>3</th>\n",
       "      <td>Congressional District 3 (114th Congress), Ala...</td>\n",
       "      <td>461181</td>\n",
       "      <td>01</td>\n",
       "      <td>03</td>\n",
       "    </tr>\n",
       "    <tr>\n",
       "      <th>4</th>\n",
       "      <td>Congressional District 4 (114th Congress), Ala...</td>\n",
       "      <td>426075</td>\n",
       "      <td>01</td>\n",
       "      <td>04</td>\n",
       "    </tr>\n",
       "    <tr>\n",
       "      <th>5</th>\n",
       "      <td>Congressional District 5 (114th Congress), Ala...</td>\n",
       "      <td>458893</td>\n",
       "      <td>01</td>\n",
       "      <td>05</td>\n",
       "    </tr>\n",
       "  </tbody>\n",
       "</table>\n",
       "</div>"
      ],
      "text/plain": [
       "0                                               NAME    2014 state  \\\n",
       "1  Congressional District 1 (114th Congress), Ala...  440066    01   \n",
       "2  Congressional District 2 (114th Congress), Ala...  433950    01   \n",
       "3  Congressional District 3 (114th Congress), Ala...  461181    01   \n",
       "4  Congressional District 4 (114th Congress), Ala...  426075    01   \n",
       "5  Congressional District 5 (114th Congress), Ala...  458893    01   \n",
       "\n",
       "0 congressional district  \n",
       "1                     01  \n",
       "2                     02  \n",
       "3                     03  \n",
       "4                     04  \n",
       "5                     05  "
      ]
     },
     "execution_count": 394,
     "metadata": {},
     "output_type": "execute_result"
    }
   ],
   "source": [
    "#Change 2014 Column heading\n",
    "employed_2014_df2 = employed_2014_df.drop([0])\n",
    "employed_2014_df = employed_2014_df2.rename(columns={\"C23022_001E\":\"2014\"})\n",
    "employed_2014_df.head()"
   ]
  },
  {
   "cell_type": "code",
   "execution_count": 395,
   "metadata": {},
   "outputs": [
    {
     "data": {
      "text/plain": [
       "0\n",
       "NAME                      object\n",
       "2014                       int64\n",
       "state                     object\n",
       "congressional district    object\n",
       "dtype: object"
      ]
     },
     "execution_count": 395,
     "metadata": {},
     "output_type": "execute_result"
    }
   ],
   "source": [
    "#change year data from object to numeric\n",
    "employed_2014_df['2014'] = pd.to_numeric(employed_2014_df['2014'])\n",
    "\n",
    "employed_2014_df.dtypes"
   ]
  },
  {
   "cell_type": "code",
   "execution_count": null,
   "metadata": {},
   "outputs": [],
   "source": [
    "\n",
    "\n"
   ]
  },
  {
   "cell_type": "code",
   "execution_count": 396,
   "metadata": {},
   "outputs": [
    {
     "data": {
      "text/html": [
       "<div>\n",
       "<style scoped>\n",
       "    .dataframe tbody tr th:only-of-type {\n",
       "        vertical-align: middle;\n",
       "    }\n",
       "\n",
       "    .dataframe tbody tr th {\n",
       "        vertical-align: top;\n",
       "    }\n",
       "\n",
       "    .dataframe thead th {\n",
       "        text-align: right;\n",
       "    }\n",
       "</style>\n",
       "<table border=\"1\" class=\"dataframe\">\n",
       "  <thead>\n",
       "    <tr style=\"text-align: right;\">\n",
       "      <th></th>\n",
       "      <th>NAME</th>\n",
       "      <th>C23022_001E</th>\n",
       "      <th>state</th>\n",
       "      <th>congressional district</th>\n",
       "    </tr>\n",
       "  </thead>\n",
       "  <tbody>\n",
       "    <tr>\n",
       "      <th>0</th>\n",
       "      <td>NAME</td>\n",
       "      <td>C23022_001E</td>\n",
       "      <td>state</td>\n",
       "      <td>congressional district</td>\n",
       "    </tr>\n",
       "    <tr>\n",
       "      <th>1</th>\n",
       "      <td>Congressional District 1 (113th Congress), Ala...</td>\n",
       "      <td>441069</td>\n",
       "      <td>01</td>\n",
       "      <td>01</td>\n",
       "    </tr>\n",
       "    <tr>\n",
       "      <th>2</th>\n",
       "      <td>Congressional District 2 (113th Congress), Ala...</td>\n",
       "      <td>441141</td>\n",
       "      <td>01</td>\n",
       "      <td>02</td>\n",
       "    </tr>\n",
       "    <tr>\n",
       "      <th>3</th>\n",
       "      <td>Congressional District 3 (113th Congress), Ala...</td>\n",
       "      <td>459735</td>\n",
       "      <td>01</td>\n",
       "      <td>03</td>\n",
       "    </tr>\n",
       "    <tr>\n",
       "      <th>4</th>\n",
       "      <td>Congressional District 4 (113th Congress), Ala...</td>\n",
       "      <td>432636</td>\n",
       "      <td>01</td>\n",
       "      <td>04</td>\n",
       "    </tr>\n",
       "  </tbody>\n",
       "</table>\n",
       "</div>"
      ],
      "text/plain": [
       "0                                               NAME  C23022_001E  state  \\\n",
       "0                                               NAME  C23022_001E  state   \n",
       "1  Congressional District 1 (113th Congress), Ala...       441069     01   \n",
       "2  Congressional District 2 (113th Congress), Ala...       441141     01   \n",
       "3  Congressional District 3 (113th Congress), Ala...       459735     01   \n",
       "4  Congressional District 4 (113th Congress), Ala...       432636     01   \n",
       "\n",
       "0  congressional district  \n",
       "0  congressional district  \n",
       "1                      01  \n",
       "2                      02  \n",
       "3                      03  \n",
       "4                      04  "
      ]
     },
     "execution_count": 396,
     "metadata": {},
     "output_type": "execute_result"
    }
   ],
   "source": [
    "# Convert FTE 2013 to Data Frame\n",
    "employed_2013_df =pd.DataFrame(employed_2013_json)\n",
    "employed_2013_df.columns = employed_2013_df.iloc[0]\n",
    "employed_2013_df.head()"
   ]
  },
  {
   "cell_type": "code",
   "execution_count": 397,
   "metadata": {},
   "outputs": [
    {
     "data": {
      "text/html": [
       "<div>\n",
       "<style scoped>\n",
       "    .dataframe tbody tr th:only-of-type {\n",
       "        vertical-align: middle;\n",
       "    }\n",
       "\n",
       "    .dataframe tbody tr th {\n",
       "        vertical-align: top;\n",
       "    }\n",
       "\n",
       "    .dataframe thead th {\n",
       "        text-align: right;\n",
       "    }\n",
       "</style>\n",
       "<table border=\"1\" class=\"dataframe\">\n",
       "  <thead>\n",
       "    <tr style=\"text-align: right;\">\n",
       "      <th></th>\n",
       "      <th>NAME</th>\n",
       "      <th>2013</th>\n",
       "      <th>state</th>\n",
       "      <th>congressional district</th>\n",
       "    </tr>\n",
       "  </thead>\n",
       "  <tbody>\n",
       "    <tr>\n",
       "      <th>1</th>\n",
       "      <td>Congressional District 1 (113th Congress), Ala...</td>\n",
       "      <td>441069</td>\n",
       "      <td>01</td>\n",
       "      <td>01</td>\n",
       "    </tr>\n",
       "    <tr>\n",
       "      <th>2</th>\n",
       "      <td>Congressional District 2 (113th Congress), Ala...</td>\n",
       "      <td>441141</td>\n",
       "      <td>01</td>\n",
       "      <td>02</td>\n",
       "    </tr>\n",
       "    <tr>\n",
       "      <th>3</th>\n",
       "      <td>Congressional District 3 (113th Congress), Ala...</td>\n",
       "      <td>459735</td>\n",
       "      <td>01</td>\n",
       "      <td>03</td>\n",
       "    </tr>\n",
       "    <tr>\n",
       "      <th>4</th>\n",
       "      <td>Congressional District 4 (113th Congress), Ala...</td>\n",
       "      <td>432636</td>\n",
       "      <td>01</td>\n",
       "      <td>04</td>\n",
       "    </tr>\n",
       "    <tr>\n",
       "      <th>5</th>\n",
       "      <td>Congressional District 5 (113th Congress), Ala...</td>\n",
       "      <td>458603</td>\n",
       "      <td>01</td>\n",
       "      <td>05</td>\n",
       "    </tr>\n",
       "  </tbody>\n",
       "</table>\n",
       "</div>"
      ],
      "text/plain": [
       "0                                               NAME    2013 state  \\\n",
       "1  Congressional District 1 (113th Congress), Ala...  441069    01   \n",
       "2  Congressional District 2 (113th Congress), Ala...  441141    01   \n",
       "3  Congressional District 3 (113th Congress), Ala...  459735    01   \n",
       "4  Congressional District 4 (113th Congress), Ala...  432636    01   \n",
       "5  Congressional District 5 (113th Congress), Ala...  458603    01   \n",
       "\n",
       "0 congressional district  \n",
       "1                     01  \n",
       "2                     02  \n",
       "3                     03  \n",
       "4                     04  \n",
       "5                     05  "
      ]
     },
     "execution_count": 397,
     "metadata": {},
     "output_type": "execute_result"
    }
   ],
   "source": [
    "#Change 2013 Column heading\n",
    "employed_2013_df2 = employed_2013_df.drop([0])\n",
    "employed_2013_df = employed_2013_df2.rename(columns={\"C23022_001E\":\"2013\"})\n",
    "employed_2013_df.head()"
   ]
  },
  {
   "cell_type": "code",
   "execution_count": 398,
   "metadata": {},
   "outputs": [
    {
     "data": {
      "text/plain": [
       "0\n",
       "NAME                      object\n",
       "2013                       int64\n",
       "state                     object\n",
       "congressional district    object\n",
       "dtype: object"
      ]
     },
     "execution_count": 398,
     "metadata": {},
     "output_type": "execute_result"
    }
   ],
   "source": [
    "#change year data from object to numeric\n",
    "employed_2013_df['2013'] = pd.to_numeric(employed_2013_df['2013'])\n",
    "\n",
    "employed_2013_df.dtypes"
   ]
  },
  {
   "cell_type": "markdown",
   "metadata": {},
   "source": [
    "     "
   ]
  },
  {
   "cell_type": "code",
   "execution_count": null,
   "metadata": {},
   "outputs": [],
   "source": [
    "\n",
    "\n"
   ]
  },
  {
   "cell_type": "code",
   "execution_count": 399,
   "metadata": {},
   "outputs": [
    {
     "data": {
      "text/html": [
       "<div>\n",
       "<style scoped>\n",
       "    .dataframe tbody tr th:only-of-type {\n",
       "        vertical-align: middle;\n",
       "    }\n",
       "\n",
       "    .dataframe tbody tr th {\n",
       "        vertical-align: top;\n",
       "    }\n",
       "\n",
       "    .dataframe thead th {\n",
       "        text-align: right;\n",
       "    }\n",
       "</style>\n",
       "<table border=\"1\" class=\"dataframe\">\n",
       "  <thead>\n",
       "    <tr style=\"text-align: right;\">\n",
       "      <th></th>\n",
       "      <th>NAME</th>\n",
       "      <th>C23022_001E</th>\n",
       "      <th>state</th>\n",
       "      <th>congressional district</th>\n",
       "    </tr>\n",
       "  </thead>\n",
       "  <tbody>\n",
       "    <tr>\n",
       "      <th>0</th>\n",
       "      <td>NAME</td>\n",
       "      <td>C23022_001E</td>\n",
       "      <td>state</td>\n",
       "      <td>congressional district</td>\n",
       "    </tr>\n",
       "    <tr>\n",
       "      <th>1</th>\n",
       "      <td>Congressional District 1 (113th Congress), Ala...</td>\n",
       "      <td>442343</td>\n",
       "      <td>01</td>\n",
       "      <td>01</td>\n",
       "    </tr>\n",
       "    <tr>\n",
       "      <th>2</th>\n",
       "      <td>Congressional District 2 (113th Congress), Ala...</td>\n",
       "      <td>437883</td>\n",
       "      <td>01</td>\n",
       "      <td>02</td>\n",
       "    </tr>\n",
       "    <tr>\n",
       "      <th>3</th>\n",
       "      <td>Congressional District 3 (113th Congress), Ala...</td>\n",
       "      <td>456475</td>\n",
       "      <td>01</td>\n",
       "      <td>03</td>\n",
       "    </tr>\n",
       "    <tr>\n",
       "      <th>4</th>\n",
       "      <td>Congressional District 4 (113th Congress), Ala...</td>\n",
       "      <td>427973</td>\n",
       "      <td>01</td>\n",
       "      <td>04</td>\n",
       "    </tr>\n",
       "  </tbody>\n",
       "</table>\n",
       "</div>"
      ],
      "text/plain": [
       "0                                               NAME  C23022_001E  state  \\\n",
       "0                                               NAME  C23022_001E  state   \n",
       "1  Congressional District 1 (113th Congress), Ala...       442343     01   \n",
       "2  Congressional District 2 (113th Congress), Ala...       437883     01   \n",
       "3  Congressional District 3 (113th Congress), Ala...       456475     01   \n",
       "4  Congressional District 4 (113th Congress), Ala...       427973     01   \n",
       "\n",
       "0  congressional district  \n",
       "0  congressional district  \n",
       "1                      01  \n",
       "2                      02  \n",
       "3                      03  \n",
       "4                      04  "
      ]
     },
     "execution_count": 399,
     "metadata": {},
     "output_type": "execute_result"
    }
   ],
   "source": [
    "# Convert FTE 2012 to Data Frame\n",
    "employed_2012_df =pd.DataFrame(employed_2012_json)\n",
    "employed_2012_df.columns = employed_2012_df.iloc[0]\n",
    "employed_2012_df.head()"
   ]
  },
  {
   "cell_type": "code",
   "execution_count": 400,
   "metadata": {},
   "outputs": [
    {
     "data": {
      "text/html": [
       "<div>\n",
       "<style scoped>\n",
       "    .dataframe tbody tr th:only-of-type {\n",
       "        vertical-align: middle;\n",
       "    }\n",
       "\n",
       "    .dataframe tbody tr th {\n",
       "        vertical-align: top;\n",
       "    }\n",
       "\n",
       "    .dataframe thead th {\n",
       "        text-align: right;\n",
       "    }\n",
       "</style>\n",
       "<table border=\"1\" class=\"dataframe\">\n",
       "  <thead>\n",
       "    <tr style=\"text-align: right;\">\n",
       "      <th></th>\n",
       "      <th>NAME</th>\n",
       "      <th>2012</th>\n",
       "      <th>state</th>\n",
       "      <th>congressional district</th>\n",
       "    </tr>\n",
       "  </thead>\n",
       "  <tbody>\n",
       "    <tr>\n",
       "      <th>1</th>\n",
       "      <td>Congressional District 1 (113th Congress), Ala...</td>\n",
       "      <td>442343</td>\n",
       "      <td>01</td>\n",
       "      <td>01</td>\n",
       "    </tr>\n",
       "    <tr>\n",
       "      <th>2</th>\n",
       "      <td>Congressional District 2 (113th Congress), Ala...</td>\n",
       "      <td>437883</td>\n",
       "      <td>01</td>\n",
       "      <td>02</td>\n",
       "    </tr>\n",
       "    <tr>\n",
       "      <th>3</th>\n",
       "      <td>Congressional District 3 (113th Congress), Ala...</td>\n",
       "      <td>456475</td>\n",
       "      <td>01</td>\n",
       "      <td>03</td>\n",
       "    </tr>\n",
       "    <tr>\n",
       "      <th>4</th>\n",
       "      <td>Congressional District 4 (113th Congress), Ala...</td>\n",
       "      <td>427973</td>\n",
       "      <td>01</td>\n",
       "      <td>04</td>\n",
       "    </tr>\n",
       "    <tr>\n",
       "      <th>5</th>\n",
       "      <td>Congressional District 5 (113th Congress), Ala...</td>\n",
       "      <td>456360</td>\n",
       "      <td>01</td>\n",
       "      <td>05</td>\n",
       "    </tr>\n",
       "  </tbody>\n",
       "</table>\n",
       "</div>"
      ],
      "text/plain": [
       "0                                               NAME    2012 state  \\\n",
       "1  Congressional District 1 (113th Congress), Ala...  442343    01   \n",
       "2  Congressional District 2 (113th Congress), Ala...  437883    01   \n",
       "3  Congressional District 3 (113th Congress), Ala...  456475    01   \n",
       "4  Congressional District 4 (113th Congress), Ala...  427973    01   \n",
       "5  Congressional District 5 (113th Congress), Ala...  456360    01   \n",
       "\n",
       "0 congressional district  \n",
       "1                     01  \n",
       "2                     02  \n",
       "3                     03  \n",
       "4                     04  \n",
       "5                     05  "
      ]
     },
     "execution_count": 400,
     "metadata": {},
     "output_type": "execute_result"
    }
   ],
   "source": [
    "#Change 2012 Column heading\n",
    "employed_2012_df2 = employed_2012_df.drop([0])\n",
    "employed_2012_df = employed_2012_df2.rename(columns={\"C23022_001E\":\"2012\"})\n",
    "employed_2012_df.head()"
   ]
  },
  {
   "cell_type": "code",
   "execution_count": 401,
   "metadata": {},
   "outputs": [
    {
     "data": {
      "text/plain": [
       "0\n",
       "NAME                      object\n",
       "2012                       int64\n",
       "state                     object\n",
       "congressional district    object\n",
       "dtype: object"
      ]
     },
     "execution_count": 401,
     "metadata": {},
     "output_type": "execute_result"
    }
   ],
   "source": [
    "#change year data from object to numeric\n",
    "employed_2012_df['2012'] = pd.to_numeric(employed_2012_df['2012'])\n",
    "\n",
    "employed_2012_df.dtypes"
   ]
  },
  {
   "cell_type": "code",
   "execution_count": null,
   "metadata": {},
   "outputs": [],
   "source": [
    "\n",
    "\n"
   ]
  },
  {
   "cell_type": "markdown",
   "metadata": {},
   "source": [
    "     "
   ]
  },
  {
   "cell_type": "markdown",
   "metadata": {},
   "source": [
    "        MERGE "
   ]
  },
  {
   "cell_type": "code",
   "execution_count": 402,
   "metadata": {},
   "outputs": [
    {
     "data": {
      "text/html": [
       "<div>\n",
       "<style scoped>\n",
       "    .dataframe tbody tr th:only-of-type {\n",
       "        vertical-align: middle;\n",
       "    }\n",
       "\n",
       "    .dataframe tbody tr th {\n",
       "        vertical-align: top;\n",
       "    }\n",
       "\n",
       "    .dataframe thead th {\n",
       "        text-align: right;\n",
       "    }\n",
       "</style>\n",
       "<table border=\"1\" class=\"dataframe\">\n",
       "  <thead>\n",
       "    <tr style=\"text-align: right;\">\n",
       "      <th></th>\n",
       "      <th>NAME</th>\n",
       "      <th>2015</th>\n",
       "      <th>state_x</th>\n",
       "      <th>congressional district_x</th>\n",
       "      <th>2014</th>\n",
       "      <th>state_y</th>\n",
       "      <th>congressional district_y</th>\n",
       "    </tr>\n",
       "  </thead>\n",
       "  <tbody>\n",
       "    <tr>\n",
       "      <th>0</th>\n",
       "      <td>Congressional District 1 (114th Congress), Ala...</td>\n",
       "      <td>443698</td>\n",
       "      <td>01</td>\n",
       "      <td>01</td>\n",
       "      <td>440066</td>\n",
       "      <td>01</td>\n",
       "      <td>01</td>\n",
       "    </tr>\n",
       "    <tr>\n",
       "      <th>1</th>\n",
       "      <td>Congressional District 2 (114th Congress), Ala...</td>\n",
       "      <td>436888</td>\n",
       "      <td>01</td>\n",
       "      <td>02</td>\n",
       "      <td>433950</td>\n",
       "      <td>01</td>\n",
       "      <td>02</td>\n",
       "    </tr>\n",
       "    <tr>\n",
       "      <th>2</th>\n",
       "      <td>Congressional District 3 (114th Congress), Ala...</td>\n",
       "      <td>456973</td>\n",
       "      <td>01</td>\n",
       "      <td>03</td>\n",
       "      <td>461181</td>\n",
       "      <td>01</td>\n",
       "      <td>03</td>\n",
       "    </tr>\n",
       "    <tr>\n",
       "      <th>3</th>\n",
       "      <td>Congressional District 4 (114th Congress), Ala...</td>\n",
       "      <td>426371</td>\n",
       "      <td>01</td>\n",
       "      <td>04</td>\n",
       "      <td>426075</td>\n",
       "      <td>01</td>\n",
       "      <td>04</td>\n",
       "    </tr>\n",
       "    <tr>\n",
       "      <th>4</th>\n",
       "      <td>Congressional District 5 (114th Congress), Ala...</td>\n",
       "      <td>461485</td>\n",
       "      <td>01</td>\n",
       "      <td>05</td>\n",
       "      <td>458893</td>\n",
       "      <td>01</td>\n",
       "      <td>05</td>\n",
       "    </tr>\n",
       "  </tbody>\n",
       "</table>\n",
       "</div>"
      ],
      "text/plain": [
       "0                                               NAME    2015 state_x  \\\n",
       "0  Congressional District 1 (114th Congress), Ala...  443698      01   \n",
       "1  Congressional District 2 (114th Congress), Ala...  436888      01   \n",
       "2  Congressional District 3 (114th Congress), Ala...  456973      01   \n",
       "3  Congressional District 4 (114th Congress), Ala...  426371      01   \n",
       "4  Congressional District 5 (114th Congress), Ala...  461485      01   \n",
       "\n",
       "0 congressional district_x    2014 state_y congressional district_y  \n",
       "0                       01  440066      01                       01  \n",
       "1                       02  433950      01                       02  \n",
       "2                       03  461181      01                       03  \n",
       "3                       04  426075      01                       04  \n",
       "4                       05  458893      01                       05  "
      ]
     },
     "execution_count": 402,
     "metadata": {},
     "output_type": "execute_result"
    }
   ],
   "source": [
    "merge_df = pd.merge(employed_2015_df, employed_2014_df, on='NAME', how=\"left\")\n",
    "\n",
    "merge_df.head()"
   ]
  },
  {
   "cell_type": "code",
   "execution_count": 410,
   "metadata": {},
   "outputs": [
    {
     "name": "stderr",
     "output_type": "stream",
     "text": [
      "C:\\ProgramData\\Anaconda3\\lib\\site-packages\\ipykernel_launcher.py:3: FutureWarning: \n",
      "Passing list-likes to .loc or [] with any missing label will raise\n",
      "KeyError in the future, you can use .reindex() as an alternative.\n",
      "\n",
      "See the documentation here:\n",
      "http://pandas.pydata.org/pandas-docs/stable/indexing.html#deprecate-loc-reindex-listlike\n",
      "  This is separate from the ipykernel package so we can avoid doing imports until\n",
      "C:\\ProgramData\\Anaconda3\\lib\\site-packages\\pandas\\core\\indexing.py:1367: FutureWarning: \n",
      "Passing list-likes to .loc or [] with any missing label will raise\n",
      "KeyError in the future, you can use .reindex() as an alternative.\n",
      "\n",
      "See the documentation here:\n",
      "http://pandas.pydata.org/pandas-docs/stable/indexing.html#deprecate-loc-reindex-listlike\n",
      "  return self._getitem_tuple(key)\n"
     ]
    },
    {
     "data": {
      "text/html": [
       "<div>\n",
       "<style scoped>\n",
       "    .dataframe tbody tr th:only-of-type {\n",
       "        vertical-align: middle;\n",
       "    }\n",
       "\n",
       "    .dataframe tbody tr th {\n",
       "        vertical-align: top;\n",
       "    }\n",
       "\n",
       "    .dataframe thead th {\n",
       "        text-align: right;\n",
       "    }\n",
       "</style>\n",
       "<table border=\"1\" class=\"dataframe\">\n",
       "  <thead>\n",
       "    <tr style=\"text-align: right;\">\n",
       "      <th></th>\n",
       "      <th>name</th>\n",
       "      <th>2015</th>\n",
       "      <th>2014</th>\n",
       "      <th>state</th>\n",
       "    </tr>\n",
       "  </thead>\n",
       "  <tbody>\n",
       "    <tr>\n",
       "      <th>0</th>\n",
       "      <td>NaN</td>\n",
       "      <td>443698</td>\n",
       "      <td>440066</td>\n",
       "      <td>NaN</td>\n",
       "    </tr>\n",
       "    <tr>\n",
       "      <th>1</th>\n",
       "      <td>NaN</td>\n",
       "      <td>436888</td>\n",
       "      <td>433950</td>\n",
       "      <td>NaN</td>\n",
       "    </tr>\n",
       "    <tr>\n",
       "      <th>2</th>\n",
       "      <td>NaN</td>\n",
       "      <td>456973</td>\n",
       "      <td>461181</td>\n",
       "      <td>NaN</td>\n",
       "    </tr>\n",
       "    <tr>\n",
       "      <th>3</th>\n",
       "      <td>NaN</td>\n",
       "      <td>426371</td>\n",
       "      <td>426075</td>\n",
       "      <td>NaN</td>\n",
       "    </tr>\n",
       "    <tr>\n",
       "      <th>4</th>\n",
       "      <td>NaN</td>\n",
       "      <td>461485</td>\n",
       "      <td>458893</td>\n",
       "      <td>NaN</td>\n",
       "    </tr>\n",
       "  </tbody>\n",
       "</table>\n",
       "</div>"
      ],
      "text/plain": [
       "0  name    2015    2014  state\n",
       "0   NaN  443698  440066    NaN\n",
       "1   NaN  436888  433950    NaN\n",
       "2   NaN  456973  461181    NaN\n",
       "3   NaN  426371  426075    NaN\n",
       "4   NaN  461485  458893    NaN"
      ]
     },
     "execution_count": 410,
     "metadata": {},
     "output_type": "execute_result"
    }
   ],
   "source": [
    "\n",
    "# Delete the duplicate 'Congressional district\n",
    "Reduced_merge_df = merge_df.loc[:,[\"name\", \"2015\", \"2014\", \"state\"]]\n",
    "Reduced_merge_df.head()\n"
   ]
  },
  {
   "cell_type": "code",
   "execution_count": null,
   "metadata": {},
   "outputs": [],
   "source": [
    "reduced_kickstarter_df = df.loc[:,[\"name\", \"goal\", \"pledged\", \"state\", \"country\", \"staff_pick\",\"backers_count\", \"spotlight\"]]\n",
    "reduced_kickstarter_df"
   ]
  },
  {
   "cell_type": "code",
   "execution_count": null,
   "metadata": {},
   "outputs": [],
   "source": []
  },
  {
   "cell_type": "code",
   "execution_count": null,
   "metadata": {},
   "outputs": [],
   "source": []
  },
  {
   "cell_type": "code",
   "execution_count": null,
   "metadata": {},
   "outputs": [],
   "source": []
  },
  {
   "cell_type": "code",
   "execution_count": 403,
   "metadata": {},
   "outputs": [
    {
     "data": {
      "text/html": [
       "<div>\n",
       "<style scoped>\n",
       "    .dataframe tbody tr th:only-of-type {\n",
       "        vertical-align: middle;\n",
       "    }\n",
       "\n",
       "    .dataframe tbody tr th {\n",
       "        vertical-align: top;\n",
       "    }\n",
       "\n",
       "    .dataframe thead th {\n",
       "        text-align: right;\n",
       "    }\n",
       "</style>\n",
       "<table border=\"1\" class=\"dataframe\">\n",
       "  <thead>\n",
       "    <tr style=\"text-align: right;\">\n",
       "      <th></th>\n",
       "      <th>NAME</th>\n",
       "      <th>2015</th>\n",
       "      <th>state_x</th>\n",
       "      <th>congressional district_x</th>\n",
       "      <th>2014</th>\n",
       "      <th>state_y</th>\n",
       "      <th>congressional district_y</th>\n",
       "      <th>2013</th>\n",
       "      <th>state</th>\n",
       "      <th>congressional district</th>\n",
       "    </tr>\n",
       "  </thead>\n",
       "  <tbody>\n",
       "    <tr>\n",
       "      <th>0</th>\n",
       "      <td>Congressional District 1 (114th Congress), Ala...</td>\n",
       "      <td>443698</td>\n",
       "      <td>01</td>\n",
       "      <td>01</td>\n",
       "      <td>440066</td>\n",
       "      <td>01</td>\n",
       "      <td>01</td>\n",
       "      <td>NaN</td>\n",
       "      <td>NaN</td>\n",
       "      <td>NaN</td>\n",
       "    </tr>\n",
       "    <tr>\n",
       "      <th>1</th>\n",
       "      <td>Congressional District 2 (114th Congress), Ala...</td>\n",
       "      <td>436888</td>\n",
       "      <td>01</td>\n",
       "      <td>02</td>\n",
       "      <td>433950</td>\n",
       "      <td>01</td>\n",
       "      <td>02</td>\n",
       "      <td>NaN</td>\n",
       "      <td>NaN</td>\n",
       "      <td>NaN</td>\n",
       "    </tr>\n",
       "    <tr>\n",
       "      <th>2</th>\n",
       "      <td>Congressional District 3 (114th Congress), Ala...</td>\n",
       "      <td>456973</td>\n",
       "      <td>01</td>\n",
       "      <td>03</td>\n",
       "      <td>461181</td>\n",
       "      <td>01</td>\n",
       "      <td>03</td>\n",
       "      <td>NaN</td>\n",
       "      <td>NaN</td>\n",
       "      <td>NaN</td>\n",
       "    </tr>\n",
       "    <tr>\n",
       "      <th>3</th>\n",
       "      <td>Congressional District 4 (114th Congress), Ala...</td>\n",
       "      <td>426371</td>\n",
       "      <td>01</td>\n",
       "      <td>04</td>\n",
       "      <td>426075</td>\n",
       "      <td>01</td>\n",
       "      <td>04</td>\n",
       "      <td>NaN</td>\n",
       "      <td>NaN</td>\n",
       "      <td>NaN</td>\n",
       "    </tr>\n",
       "    <tr>\n",
       "      <th>4</th>\n",
       "      <td>Congressional District 5 (114th Congress), Ala...</td>\n",
       "      <td>461485</td>\n",
       "      <td>01</td>\n",
       "      <td>05</td>\n",
       "      <td>458893</td>\n",
       "      <td>01</td>\n",
       "      <td>05</td>\n",
       "      <td>NaN</td>\n",
       "      <td>NaN</td>\n",
       "      <td>NaN</td>\n",
       "    </tr>\n",
       "  </tbody>\n",
       "</table>\n",
       "</div>"
      ],
      "text/plain": [
       "0                                               NAME    2015 state_x  \\\n",
       "0  Congressional District 1 (114th Congress), Ala...  443698      01   \n",
       "1  Congressional District 2 (114th Congress), Ala...  436888      01   \n",
       "2  Congressional District 3 (114th Congress), Ala...  456973      01   \n",
       "3  Congressional District 4 (114th Congress), Ala...  426371      01   \n",
       "4  Congressional District 5 (114th Congress), Ala...  461485      01   \n",
       "\n",
       "0 congressional district_x    2014 state_y congressional district_y  2013  \\\n",
       "0                       01  440066      01                       01   NaN   \n",
       "1                       02  433950      01                       02   NaN   \n",
       "2                       03  461181      01                       03   NaN   \n",
       "3                       04  426075      01                       04   NaN   \n",
       "4                       05  458893      01                       05   NaN   \n",
       "\n",
       "0 state congressional district  \n",
       "0   NaN                    NaN  \n",
       "1   NaN                    NaN  \n",
       "2   NaN                    NaN  \n",
       "3   NaN                    NaN  \n",
       "4   NaN                    NaN  "
      ]
     },
     "execution_count": 403,
     "metadata": {},
     "output_type": "execute_result"
    }
   ],
   "source": [
    "merge_df2 = pd.merge(merge_df, employed_2013_df, on='NAME', how=\"left\")\n",
    "\n",
    "merge_df2.head()"
   ]
  },
  {
   "cell_type": "code",
   "execution_count": null,
   "metadata": {},
   "outputs": [],
   "source": [
    "\n",
    "\n",
    "\n",
    "\n"
   ]
  },
  {
   "cell_type": "code",
   "execution_count": 404,
   "metadata": {},
   "outputs": [],
   "source": [
    "#MERGE 12 & 13"
   ]
  },
  {
   "cell_type": "code",
   "execution_count": 405,
   "metadata": {},
   "outputs": [
    {
     "data": {
      "text/html": [
       "<div>\n",
       "<style scoped>\n",
       "    .dataframe tbody tr th:only-of-type {\n",
       "        vertical-align: middle;\n",
       "    }\n",
       "\n",
       "    .dataframe tbody tr th {\n",
       "        vertical-align: top;\n",
       "    }\n",
       "\n",
       "    .dataframe thead th {\n",
       "        text-align: right;\n",
       "    }\n",
       "</style>\n",
       "<table border=\"1\" class=\"dataframe\">\n",
       "  <thead>\n",
       "    <tr style=\"text-align: right;\">\n",
       "      <th></th>\n",
       "      <th>NAME</th>\n",
       "      <th>2013</th>\n",
       "      <th>state_x</th>\n",
       "      <th>congressional district_x</th>\n",
       "      <th>2012</th>\n",
       "      <th>state_y</th>\n",
       "      <th>congressional district_y</th>\n",
       "    </tr>\n",
       "  </thead>\n",
       "  <tbody>\n",
       "    <tr>\n",
       "      <th>0</th>\n",
       "      <td>Congressional District 1 (113th Congress), Ala...</td>\n",
       "      <td>441069</td>\n",
       "      <td>01</td>\n",
       "      <td>01</td>\n",
       "      <td>442343</td>\n",
       "      <td>01</td>\n",
       "      <td>01</td>\n",
       "    </tr>\n",
       "    <tr>\n",
       "      <th>1</th>\n",
       "      <td>Congressional District 2 (113th Congress), Ala...</td>\n",
       "      <td>441141</td>\n",
       "      <td>01</td>\n",
       "      <td>02</td>\n",
       "      <td>437883</td>\n",
       "      <td>01</td>\n",
       "      <td>02</td>\n",
       "    </tr>\n",
       "    <tr>\n",
       "      <th>2</th>\n",
       "      <td>Congressional District 3 (113th Congress), Ala...</td>\n",
       "      <td>459735</td>\n",
       "      <td>01</td>\n",
       "      <td>03</td>\n",
       "      <td>456475</td>\n",
       "      <td>01</td>\n",
       "      <td>03</td>\n",
       "    </tr>\n",
       "    <tr>\n",
       "      <th>3</th>\n",
       "      <td>Congressional District 4 (113th Congress), Ala...</td>\n",
       "      <td>432636</td>\n",
       "      <td>01</td>\n",
       "      <td>04</td>\n",
       "      <td>427973</td>\n",
       "      <td>01</td>\n",
       "      <td>04</td>\n",
       "    </tr>\n",
       "    <tr>\n",
       "      <th>4</th>\n",
       "      <td>Congressional District 5 (113th Congress), Ala...</td>\n",
       "      <td>458603</td>\n",
       "      <td>01</td>\n",
       "      <td>05</td>\n",
       "      <td>456360</td>\n",
       "      <td>01</td>\n",
       "      <td>05</td>\n",
       "    </tr>\n",
       "  </tbody>\n",
       "</table>\n",
       "</div>"
      ],
      "text/plain": [
       "0                                               NAME    2013 state_x  \\\n",
       "0  Congressional District 1 (113th Congress), Ala...  441069      01   \n",
       "1  Congressional District 2 (113th Congress), Ala...  441141      01   \n",
       "2  Congressional District 3 (113th Congress), Ala...  459735      01   \n",
       "3  Congressional District 4 (113th Congress), Ala...  432636      01   \n",
       "4  Congressional District 5 (113th Congress), Ala...  458603      01   \n",
       "\n",
       "0 congressional district_x    2012 state_y congressional district_y  \n",
       "0                       01  442343      01                       01  \n",
       "1                       02  437883      01                       02  \n",
       "2                       03  456475      01                       03  \n",
       "3                       04  427973      01                       04  \n",
       "4                       05  456360      01                       05  "
      ]
     },
     "execution_count": 405,
     "metadata": {},
     "output_type": "execute_result"
    }
   ],
   "source": [
    "merge_df3 = pd.merge(employed_2013_df, employed_2012_df, on='NAME', how=\"left\")\n",
    "\n",
    "merge_df3.head()"
   ]
  },
  {
   "cell_type": "code",
   "execution_count": null,
   "metadata": {},
   "outputs": [],
   "source": [
    "\n",
    "\n",
    "\n"
   ]
  },
  {
   "cell_type": "code",
   "execution_count": null,
   "metadata": {},
   "outputs": [],
   "source": []
  },
  {
   "cell_type": "code",
   "execution_count": null,
   "metadata": {},
   "outputs": [],
   "source": []
  },
  {
   "cell_type": "code",
   "execution_count": null,
   "metadata": {},
   "outputs": [],
   "source": []
  },
  {
   "cell_type": "code",
   "execution_count": null,
   "metadata": {},
   "outputs": [],
   "source": []
  },
  {
   "cell_type": "markdown",
   "metadata": {},
   "source": [
    "        Adding columns and calculations"
   ]
  },
  {
   "cell_type": "code",
   "execution_count": null,
   "metadata": {},
   "outputs": [],
   "source": [
    "# Create a new column that finds the % of Males vs total\n",
    "reduced_merge_df[\"Male Emp % of tot\"] = reduced_merge_df['FTE M']/reduced_merge_df['FTE tot']\n",
    "reduced_merge_df[\"Female Emp % of tot\"] = reduced_merge_df['FTE F']/reduced_merge_df['FTE tot']\n",
    "reduced_merge_df.head(2)\n"
   ]
  },
  {
   "cell_type": "code",
   "execution_count": null,
   "metadata": {},
   "outputs": [],
   "source": [
    "# Create a new column that finds the difference between column values\n",
    "reduced_merge_df[\"tot_less_Males\"] = reduced_merge_df['FTE tot']- reduced_merge_df['FTE M']\n",
    "reduced_merge_df[\"tot_less_Females\"] = reduced_merge_df['FTE tot']- reduced_merge_df['FTE F']\n",
    "reduced_merge_df.head(2)"
   ]
  },
  {
   "cell_type": "code",
   "execution_count": null,
   "metadata": {},
   "outputs": [],
   "source": [
    "reduced_merge_df.dtypes"
   ]
  },
  {
   "cell_type": "code",
   "execution_count": null,
   "metadata": {},
   "outputs": [],
   "source": []
  },
  {
   "cell_type": "code",
   "execution_count": null,
   "metadata": {},
   "outputs": [],
   "source": []
  },
  {
   "cell_type": "code",
   "execution_count": null,
   "metadata": {},
   "outputs": [],
   "source": []
  },
  {
   "cell_type": "code",
   "execution_count": null,
   "metadata": {},
   "outputs": [],
   "source": []
  }
 ],
 "metadata": {
  "kernelspec": {
   "display_name": "Python 3",
   "language": "python",
   "name": "python3"
  },
  "language_info": {
   "codemirror_mode": {
    "name": "ipython",
    "version": 3
   },
   "file_extension": ".py",
   "mimetype": "text/x-python",
   "name": "python",
   "nbconvert_exporter": "python",
   "pygments_lexer": "ipython3",
   "version": "3.6.4"
  }
 },
 "nbformat": 4,
 "nbformat_minor": 2
}
