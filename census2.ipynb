{
 "cells": [
  {
   "cell_type": "code",
   "execution_count": 46,
   "metadata": {},
   "outputs": [],
   "source": [
    "import numpy as np\n",
    "import pandas as pd\n",
    "import matplotlib.pyplot as plt\n",
    "from matplotlib import style\n",
    "import requests\n",
    "import json"
   ]
  },
  {
   "cell_type": "code",
   "execution_count": 47,
   "metadata": {},
   "outputs": [],
   "source": [
    "apikey = \"b399f5a7a24bf7be63e60ce7c22d1cb6e294e92b\""
   ]
  },
  {
   "cell_type": "code",
   "execution_count": 48,
   "metadata": {},
   "outputs": [],
   "source": [
    "url = 'https://api.census.gov/data/2013/acs1?get=NAME,B15003_017E,B15003_021E,B15003_022E,B15003_023E,B15003_024E,B15003_025E&for=congressional%20district:*&key=' + apikey"
   ]
  },
  {
   "cell_type": "code",
   "execution_count": 49,
   "metadata": {},
   "outputs": [],
   "source": [
    "educationdata = requests.get(url)\n",
    "edudata = educationdata.json()\n",
    "edudf =pd.DataFrame(edudata)\n",
    "edudf.columns = edudf.iloc[0]"
   ]
  },
  {
   "cell_type": "code",
   "execution_count": 50,
   "metadata": {
    "scrolled": true
   },
   "outputs": [
    {
     "data": {
      "text/html": [
       "<div>\n",
       "<style scoped>\n",
       "    .dataframe tbody tr th:only-of-type {\n",
       "        vertical-align: middle;\n",
       "    }\n",
       "\n",
       "    .dataframe tbody tr th {\n",
       "        vertical-align: top;\n",
       "    }\n",
       "\n",
       "    .dataframe thead th {\n",
       "        text-align: right;\n",
       "    }\n",
       "</style>\n",
       "<table border=\"1\" class=\"dataframe\">\n",
       "  <thead>\n",
       "    <tr style=\"text-align: right;\">\n",
       "      <th></th>\n",
       "      <th>NAME</th>\n",
       "      <th>B15003_017E</th>\n",
       "      <th>B15003_021E</th>\n",
       "      <th>B15003_022E</th>\n",
       "      <th>B15003_023E</th>\n",
       "      <th>B15003_024E</th>\n",
       "      <th>B15003_025E</th>\n",
       "      <th>state</th>\n",
       "      <th>congressional district</th>\n",
       "    </tr>\n",
       "  </thead>\n",
       "  <tbody>\n",
       "    <tr>\n",
       "      <th>0</th>\n",
       "      <td>NAME</td>\n",
       "      <td>B15003_017E</td>\n",
       "      <td>B15003_021E</td>\n",
       "      <td>B15003_022E</td>\n",
       "      <td>B15003_023E</td>\n",
       "      <td>B15003_024E</td>\n",
       "      <td>B15003_025E</td>\n",
       "      <td>state</td>\n",
       "      <td>congressional district</td>\n",
       "    </tr>\n",
       "    <tr>\n",
       "      <th>1</th>\n",
       "      <td>Congressional District 1 (113th Congress), Ala...</td>\n",
       "      <td>126702</td>\n",
       "      <td>42633</td>\n",
       "      <td>72934</td>\n",
       "      <td>23595</td>\n",
       "      <td>5941</td>\n",
       "      <td>3795</td>\n",
       "      <td>01</td>\n",
       "      <td>01</td>\n",
       "    </tr>\n",
       "    <tr>\n",
       "      <th>2</th>\n",
       "      <td>Congressional District 2 (113th Congress), Ala...</td>\n",
       "      <td>120918</td>\n",
       "      <td>36495</td>\n",
       "      <td>57610</td>\n",
       "      <td>27888</td>\n",
       "      <td>4791</td>\n",
       "      <td>3695</td>\n",
       "      <td>01</td>\n",
       "      <td>02</td>\n",
       "    </tr>\n",
       "    <tr>\n",
       "      <th>3</th>\n",
       "      <td>Congressional District 3 (113th Congress), Ala...</td>\n",
       "      <td>122707</td>\n",
       "      <td>32578</td>\n",
       "      <td>55675</td>\n",
       "      <td>29049</td>\n",
       "      <td>5384</td>\n",
       "      <td>6147</td>\n",
       "      <td>01</td>\n",
       "      <td>03</td>\n",
       "    </tr>\n",
       "    <tr>\n",
       "      <th>4</th>\n",
       "      <td>Congressional District 4 (113th Congress), Ala...</td>\n",
       "      <td>127289</td>\n",
       "      <td>42214</td>\n",
       "      <td>46061</td>\n",
       "      <td>20847</td>\n",
       "      <td>4374</td>\n",
       "      <td>3450</td>\n",
       "      <td>01</td>\n",
       "      <td>04</td>\n",
       "    </tr>\n",
       "  </tbody>\n",
       "</table>\n",
       "</div>"
      ],
      "text/plain": [
       "0                                               NAME  B15003_017E  \\\n",
       "0                                               NAME  B15003_017E   \n",
       "1  Congressional District 1 (113th Congress), Ala...       126702   \n",
       "2  Congressional District 2 (113th Congress), Ala...       120918   \n",
       "3  Congressional District 3 (113th Congress), Ala...       122707   \n",
       "4  Congressional District 4 (113th Congress), Ala...       127289   \n",
       "\n",
       "0  B15003_021E  B15003_022E  B15003_023E  B15003_024E  B15003_025E  state  \\\n",
       "0  B15003_021E  B15003_022E  B15003_023E  B15003_024E  B15003_025E  state   \n",
       "1        42633        72934        23595         5941         3795     01   \n",
       "2        36495        57610        27888         4791         3695     01   \n",
       "3        32578        55675        29049         5384         6147     01   \n",
       "4        42214        46061        20847         4374         3450     01   \n",
       "\n",
       "0  congressional district  \n",
       "0  congressional district  \n",
       "1                      01  \n",
       "2                      02  \n",
       "3                      03  \n",
       "4                      04  "
      ]
     },
     "execution_count": 50,
     "metadata": {},
     "output_type": "execute_result"
    }
   ],
   "source": [
    "edudf.head()"
   ]
  },
  {
   "cell_type": "code",
   "execution_count": 51,
   "metadata": {},
   "outputs": [],
   "source": [
    "# edudf.set_index(\"NAME\", inplace=True)\n",
    "# edudf.loc(\"Congressional District 45 (113th Congress), California\")"
   ]
  },
  {
   "cell_type": "code",
   "execution_count": 52,
   "metadata": {},
   "outputs": [],
   "source": [
    "edudf2 = edudf.drop([0])"
   ]
  },
  {
   "cell_type": "code",
   "execution_count": 53,
   "metadata": {
    "collapsed": true
   },
   "outputs": [
    {
     "data": {
      "text/html": [
       "<div>\n",
       "<style scoped>\n",
       "    .dataframe tbody tr th:only-of-type {\n",
       "        vertical-align: middle;\n",
       "    }\n",
       "\n",
       "    .dataframe tbody tr th {\n",
       "        vertical-align: top;\n",
       "    }\n",
       "\n",
       "    .dataframe thead th {\n",
       "        text-align: right;\n",
       "    }\n",
       "</style>\n",
       "<table border=\"1\" class=\"dataframe\">\n",
       "  <thead>\n",
       "    <tr style=\"text-align: right;\">\n",
       "      <th></th>\n",
       "      <th>NAME</th>\n",
       "      <th>B15003_017E</th>\n",
       "      <th>B15003_021E</th>\n",
       "      <th>B15003_022E</th>\n",
       "      <th>B15003_023E</th>\n",
       "      <th>B15003_024E</th>\n",
       "      <th>B15003_025E</th>\n",
       "      <th>state</th>\n",
       "      <th>congressional district</th>\n",
       "    </tr>\n",
       "  </thead>\n",
       "  <tbody>\n",
       "    <tr>\n",
       "      <th>1</th>\n",
       "      <td>Congressional District 1 (113th Congress), Ala...</td>\n",
       "      <td>126702</td>\n",
       "      <td>42633</td>\n",
       "      <td>72934</td>\n",
       "      <td>23595</td>\n",
       "      <td>5941</td>\n",
       "      <td>3795</td>\n",
       "      <td>01</td>\n",
       "      <td>01</td>\n",
       "    </tr>\n",
       "    <tr>\n",
       "      <th>2</th>\n",
       "      <td>Congressional District 2 (113th Congress), Ala...</td>\n",
       "      <td>120918</td>\n",
       "      <td>36495</td>\n",
       "      <td>57610</td>\n",
       "      <td>27888</td>\n",
       "      <td>4791</td>\n",
       "      <td>3695</td>\n",
       "      <td>01</td>\n",
       "      <td>02</td>\n",
       "    </tr>\n",
       "    <tr>\n",
       "      <th>3</th>\n",
       "      <td>Congressional District 3 (113th Congress), Ala...</td>\n",
       "      <td>122707</td>\n",
       "      <td>32578</td>\n",
       "      <td>55675</td>\n",
       "      <td>29049</td>\n",
       "      <td>5384</td>\n",
       "      <td>6147</td>\n",
       "      <td>01</td>\n",
       "      <td>03</td>\n",
       "    </tr>\n",
       "    <tr>\n",
       "      <th>4</th>\n",
       "      <td>Congressional District 4 (113th Congress), Ala...</td>\n",
       "      <td>127289</td>\n",
       "      <td>42214</td>\n",
       "      <td>46061</td>\n",
       "      <td>20847</td>\n",
       "      <td>4374</td>\n",
       "      <td>3450</td>\n",
       "      <td>01</td>\n",
       "      <td>04</td>\n",
       "    </tr>\n",
       "    <tr>\n",
       "      <th>5</th>\n",
       "      <td>Congressional District 5 (113th Congress), Ala...</td>\n",
       "      <td>103980</td>\n",
       "      <td>39078</td>\n",
       "      <td>90232</td>\n",
       "      <td>38772</td>\n",
       "      <td>5092</td>\n",
       "      <td>5863</td>\n",
       "      <td>01</td>\n",
       "      <td>05</td>\n",
       "    </tr>\n",
       "  </tbody>\n",
       "</table>\n",
       "</div>"
      ],
      "text/plain": [
       "0                                               NAME B15003_017E B15003_021E  \\\n",
       "1  Congressional District 1 (113th Congress), Ala...      126702       42633   \n",
       "2  Congressional District 2 (113th Congress), Ala...      120918       36495   \n",
       "3  Congressional District 3 (113th Congress), Ala...      122707       32578   \n",
       "4  Congressional District 4 (113th Congress), Ala...      127289       42214   \n",
       "5  Congressional District 5 (113th Congress), Ala...      103980       39078   \n",
       "\n",
       "0 B15003_022E B15003_023E B15003_024E B15003_025E state congressional district  \n",
       "1       72934       23595        5941        3795    01                     01  \n",
       "2       57610       27888        4791        3695    01                     02  \n",
       "3       55675       29049        5384        6147    01                     03  \n",
       "4       46061       20847        4374        3450    01                     04  \n",
       "5       90232       38772        5092        5863    01                     05  "
      ]
     },
     "execution_count": 53,
     "metadata": {},
     "output_type": "execute_result"
    }
   ],
   "source": [
    "edudf2.head()"
   ]
  },
  {
   "cell_type": "code",
   "execution_count": 55,
   "metadata": {},
   "outputs": [
    {
     "data": {
      "text/html": [
       "<div>\n",
       "<style scoped>\n",
       "    .dataframe tbody tr th:only-of-type {\n",
       "        vertical-align: middle;\n",
       "    }\n",
       "\n",
       "    .dataframe tbody tr th {\n",
       "        vertical-align: top;\n",
       "    }\n",
       "\n",
       "    .dataframe thead th {\n",
       "        text-align: right;\n",
       "    }\n",
       "</style>\n",
       "<table border=\"1\" class=\"dataframe\">\n",
       "  <thead>\n",
       "    <tr style=\"text-align: right;\">\n",
       "      <th></th>\n",
       "      <th>NAME</th>\n",
       "      <th>B15003_017E</th>\n",
       "      <th>B15003_021E</th>\n",
       "      <th>B15003_022E</th>\n",
       "      <th>B15003_023E</th>\n",
       "      <th>B15003_024E</th>\n",
       "      <th>B15003_025E</th>\n",
       "      <th>state</th>\n",
       "      <th>congressional district</th>\n",
       "    </tr>\n",
       "  </thead>\n",
       "  <tbody>\n",
       "    <tr>\n",
       "      <th>66</th>\n",
       "      <td>Congressional District 45 (113th Congress), Ca...</td>\n",
       "      <td>66484</td>\n",
       "      <td>40930</td>\n",
       "      <td>154514</td>\n",
       "      <td>66920</td>\n",
       "      <td>22529</td>\n",
       "      <td>10454</td>\n",
       "      <td>06</td>\n",
       "      <td>45</td>\n",
       "    </tr>\n",
       "  </tbody>\n",
       "</table>\n",
       "</div>"
      ],
      "text/plain": [
       "0                                                NAME B15003_017E B15003_021E  \\\n",
       "66  Congressional District 45 (113th Congress), Ca...       66484       40930   \n",
       "\n",
       "0  B15003_022E B15003_023E B15003_024E B15003_025E state  \\\n",
       "66      154514       66920       22529       10454    06   \n",
       "\n",
       "0  congressional district  \n",
       "66                     45  "
      ]
     },
     "execution_count": 55,
     "metadata": {},
     "output_type": "execute_result"
    }
   ],
   "source": [
    "edudf3 = edudf2[(edudf2['NAME'] == \"Congressional District 45 (113th Congress), California\")]\n",
    "edudf3.head()\n"
   ]
  },
  {
   "cell_type": "code",
   "execution_count": 56,
   "metadata": {},
   "outputs": [],
   "source": [
    "eduf3 = edudf3.rename(columns={\"B15003_021E\":\"Associates Degree\", \"B15003_017E\":\"High School Diploma\", \"B15003_022E\":\"Bachelor's\", \"B15003_023E\":\"Masters\" , \"B15003_024E\":\"Professional\" , \"B15003_025E\":\"Doctorate\"})"
   ]
  },
  {
   "cell_type": "code",
   "execution_count": 58,
   "metadata": {},
   "outputs": [
    {
     "data": {
      "text/html": [
       "<div>\n",
       "<style scoped>\n",
       "    .dataframe tbody tr th:only-of-type {\n",
       "        vertical-align: middle;\n",
       "    }\n",
       "\n",
       "    .dataframe tbody tr th {\n",
       "        vertical-align: top;\n",
       "    }\n",
       "\n",
       "    .dataframe thead th {\n",
       "        text-align: right;\n",
       "    }\n",
       "</style>\n",
       "<table border=\"1\" class=\"dataframe\">\n",
       "  <thead>\n",
       "    <tr style=\"text-align: right;\">\n",
       "      <th></th>\n",
       "      <th>NAME</th>\n",
       "      <th>High School Diploma</th>\n",
       "      <th>Associates Degree</th>\n",
       "      <th>Bachelor's</th>\n",
       "      <th>Masters</th>\n",
       "      <th>Professional</th>\n",
       "      <th>Doctorate</th>\n",
       "      <th>state</th>\n",
       "      <th>congressional district</th>\n",
       "    </tr>\n",
       "  </thead>\n",
       "  <tbody>\n",
       "    <tr>\n",
       "      <th>66</th>\n",
       "      <td>Congressional District 45 (113th Congress), Ca...</td>\n",
       "      <td>66484</td>\n",
       "      <td>40930</td>\n",
       "      <td>154514</td>\n",
       "      <td>66920</td>\n",
       "      <td>22529</td>\n",
       "      <td>10454</td>\n",
       "      <td>06</td>\n",
       "      <td>45</td>\n",
       "    </tr>\n",
       "  </tbody>\n",
       "</table>\n",
       "</div>"
      ],
      "text/plain": [
       "0                                                NAME High School Diploma  \\\n",
       "66  Congressional District 45 (113th Congress), Ca...               66484   \n",
       "\n",
       "0  Associates Degree Bachelor's Masters Professional Doctorate state  \\\n",
       "66             40930     154514   66920        22529     10454    06   \n",
       "\n",
       "0  congressional district  \n",
       "66                     45  "
      ]
     },
     "execution_count": 58,
     "metadata": {},
     "output_type": "execute_result"
    }
   ],
   "source": [
    "eduf3.head()"
   ]
  },
  {
   "cell_type": "code",
   "execution_count": 80,
   "metadata": {},
   "outputs": [
    {
     "data": {
      "text/html": [
       "<div>\n",
       "<style scoped>\n",
       "    .dataframe tbody tr th:only-of-type {\n",
       "        vertical-align: middle;\n",
       "    }\n",
       "\n",
       "    .dataframe tbody tr th {\n",
       "        vertical-align: top;\n",
       "    }\n",
       "\n",
       "    .dataframe thead th {\n",
       "        text-align: right;\n",
       "    }\n",
       "</style>\n",
       "<table border=\"1\" class=\"dataframe\">\n",
       "  <thead>\n",
       "    <tr style=\"text-align: right;\">\n",
       "      <th></th>\n",
       "      <th>66</th>\n",
       "    </tr>\n",
       "    <tr>\n",
       "      <th>0</th>\n",
       "      <th></th>\n",
       "    </tr>\n",
       "  </thead>\n",
       "  <tbody>\n",
       "    <tr>\n",
       "      <th>NAME</th>\n",
       "      <td>Congressional District 45 (113th Congress), Ca...</td>\n",
       "    </tr>\n",
       "    <tr>\n",
       "      <th>High School Diploma</th>\n",
       "      <td>66484</td>\n",
       "    </tr>\n",
       "    <tr>\n",
       "      <th>Associates Degree</th>\n",
       "      <td>40930</td>\n",
       "    </tr>\n",
       "    <tr>\n",
       "      <th>Bachelor's</th>\n",
       "      <td>154514</td>\n",
       "    </tr>\n",
       "    <tr>\n",
       "      <th>Masters</th>\n",
       "      <td>66920</td>\n",
       "    </tr>\n",
       "    <tr>\n",
       "      <th>Professional</th>\n",
       "      <td>22529</td>\n",
       "    </tr>\n",
       "    <tr>\n",
       "      <th>Doctorate</th>\n",
       "      <td>10454</td>\n",
       "    </tr>\n",
       "    <tr>\n",
       "      <th>state</th>\n",
       "      <td>06</td>\n",
       "    </tr>\n",
       "    <tr>\n",
       "      <th>congressional district</th>\n",
       "      <td>45</td>\n",
       "    </tr>\n",
       "  </tbody>\n",
       "</table>\n",
       "</div>"
      ],
      "text/plain": [
       "                                                                       66\n",
       "0                                                                        \n",
       "NAME                    Congressional District 45 (113th Congress), Ca...\n",
       "High School Diploma                                                 66484\n",
       "Associates Degree                                                   40930\n",
       "Bachelor's                                                         154514\n",
       "Masters                                                             66920\n",
       "Professional                                                        22529\n",
       "Doctorate                                                           10454\n",
       "state                                                                  06\n",
       "congressional district                                                 45"
      ]
     },
     "execution_count": 80,
     "metadata": {},
     "output_type": "execute_result"
    }
   ],
   "source": [
    "# plt.figure()\n",
    "# eduf3.iloc[0].plot(kind='bar');\n",
    "\n",
    "edudf4 = eduf3.T\n",
    "edudf4"
   ]
  },
  {
   "cell_type": "code",
   "execution_count": 67,
   "metadata": {},
   "outputs": [
    {
     "data": {
      "text/html": [
       "<div>\n",
       "<style scoped>\n",
       "    .dataframe tbody tr th:only-of-type {\n",
       "        vertical-align: middle;\n",
       "    }\n",
       "\n",
       "    .dataframe tbody tr th {\n",
       "        vertical-align: top;\n",
       "    }\n",
       "\n",
       "    .dataframe thead th {\n",
       "        text-align: right;\n",
       "    }\n",
       "</style>\n",
       "<table border=\"1\" class=\"dataframe\">\n",
       "  <thead>\n",
       "    <tr style=\"text-align: right;\">\n",
       "      <th></th>\n",
       "      <th>66</th>\n",
       "    </tr>\n",
       "    <tr>\n",
       "      <th>0</th>\n",
       "      <th></th>\n",
       "    </tr>\n",
       "  </thead>\n",
       "  <tbody>\n",
       "    <tr>\n",
       "      <th>High School Diploma</th>\n",
       "      <td>66484</td>\n",
       "    </tr>\n",
       "    <tr>\n",
       "      <th>Associates Degree</th>\n",
       "      <td>40930</td>\n",
       "    </tr>\n",
       "    <tr>\n",
       "      <th>Bachelor's</th>\n",
       "      <td>154514</td>\n",
       "    </tr>\n",
       "    <tr>\n",
       "      <th>Masters</th>\n",
       "      <td>66920</td>\n",
       "    </tr>\n",
       "    <tr>\n",
       "      <th>Professional</th>\n",
       "      <td>22529</td>\n",
       "    </tr>\n",
       "    <tr>\n",
       "      <th>Doctorate</th>\n",
       "      <td>10454</td>\n",
       "    </tr>\n",
       "    <tr>\n",
       "      <th>state</th>\n",
       "      <td>06</td>\n",
       "    </tr>\n",
       "    <tr>\n",
       "      <th>congressional district</th>\n",
       "      <td>45</td>\n",
       "    </tr>\n",
       "  </tbody>\n",
       "</table>\n",
       "</div>"
      ],
      "text/plain": [
       "                            66\n",
       "0                             \n",
       "High School Diploma      66484\n",
       "Associates Degree        40930\n",
       "Bachelor's              154514\n",
       "Masters                  66920\n",
       "Professional             22529\n",
       "Doctorate                10454\n",
       "state                       06\n",
       "congressional district      45"
      ]
     },
     "execution_count": 67,
     "metadata": {},
     "output_type": "execute_result"
    }
   ],
   "source": [
    "edudf5 = edudf4.drop([\"NAME\"])\n",
    "\n",
    "edudf5"
   ]
  },
  {
   "cell_type": "code",
   "execution_count": 68,
   "metadata": {},
   "outputs": [
    {
     "data": {
      "text/html": [
       "<div>\n",
       "<style scoped>\n",
       "    .dataframe tbody tr th:only-of-type {\n",
       "        vertical-align: middle;\n",
       "    }\n",
       "\n",
       "    .dataframe tbody tr th {\n",
       "        vertical-align: top;\n",
       "    }\n",
       "\n",
       "    .dataframe thead th {\n",
       "        text-align: right;\n",
       "    }\n",
       "</style>\n",
       "<table border=\"1\" class=\"dataframe\">\n",
       "  <thead>\n",
       "    <tr style=\"text-align: right;\">\n",
       "      <th></th>\n",
       "      <th>66</th>\n",
       "    </tr>\n",
       "    <tr>\n",
       "      <th>0</th>\n",
       "      <th></th>\n",
       "    </tr>\n",
       "  </thead>\n",
       "  <tbody>\n",
       "    <tr>\n",
       "      <th>High School Diploma</th>\n",
       "      <td>66484</td>\n",
       "    </tr>\n",
       "    <tr>\n",
       "      <th>Associates Degree</th>\n",
       "      <td>40930</td>\n",
       "    </tr>\n",
       "    <tr>\n",
       "      <th>Bachelor's</th>\n",
       "      <td>154514</td>\n",
       "    </tr>\n",
       "    <tr>\n",
       "      <th>Masters</th>\n",
       "      <td>66920</td>\n",
       "    </tr>\n",
       "    <tr>\n",
       "      <th>Professional</th>\n",
       "      <td>22529</td>\n",
       "    </tr>\n",
       "    <tr>\n",
       "      <th>Doctorate</th>\n",
       "      <td>10454</td>\n",
       "    </tr>\n",
       "    <tr>\n",
       "      <th>congressional district</th>\n",
       "      <td>45</td>\n",
       "    </tr>\n",
       "  </tbody>\n",
       "</table>\n",
       "</div>"
      ],
      "text/plain": [
       "                            66\n",
       "0                             \n",
       "High School Diploma      66484\n",
       "Associates Degree        40930\n",
       "Bachelor's              154514\n",
       "Masters                  66920\n",
       "Professional             22529\n",
       "Doctorate                10454\n",
       "congressional district      45"
      ]
     },
     "execution_count": 68,
     "metadata": {},
     "output_type": "execute_result"
    }
   ],
   "source": [
    "edudf6 = edudf5.drop([\"state\"])\n",
    "edudf6"
   ]
  },
  {
   "cell_type": "code",
   "execution_count": 94,
   "metadata": {},
   "outputs": [
    {
     "data": {
      "text/plain": [
       "66    int32\n",
       "dtype: object"
      ]
     },
     "execution_count": 94,
     "metadata": {},
     "output_type": "execute_result"
    }
   ],
   "source": [
    "edudf7 = edudf6.drop([\"congressional district\"])\n",
    "edudf7 = edudf7.rename(columns={\"66\":\"Data\"})\n",
    "edudf7\n",
    "list(edudf7)\n",
    "edudf7[66] = edudf7[66].astype(str).astype(int)\n",
    "edudf7.dtypes"
   ]
  },
  {
   "cell_type": "code",
   "execution_count": 95,
   "metadata": {},
   "outputs": [
    {
     "data": {
      "text/plain": [
       "Int64Index([66], dtype='int64')"
      ]
     },
     "execution_count": 95,
     "metadata": {},
     "output_type": "execute_result"
    }
   ],
   "source": [
    "edudf7.columns"
   ]
  },
  {
   "cell_type": "code",
   "execution_count": 98,
   "metadata": {},
   "outputs": [
    {
     "data": {
      "image/png": "[encoded data removed]",
      "text/plain": [
       "<matplotlib.figure.Figure at 0x2984473e5f8>"
      ]
     },
     "metadata": {},
     "output_type": "display_data"
    }
   ],
   "source": [
    "# x_axis = [\"High School Diploma\", \"Associate's Degree\",\"Bachedlor's Degree\", \"Master's Degree\",\"Professional Degree\",\"Doctorate Degree\"]\n",
    "# y_axis = \n",
    "# plt.bar(x_axis, bars_in_cities, color=\"b\", align=\"edge\")\n",
    "# edudf7[[66] = pd.to_numeric(edudf7[[66])\n",
    "# edudf7.head()\n",
    "\n",
    "ax = edudf7[[66]].plot(kind='bar', title =\"Education\", figsize=(15, 10), legend=True, fontsize=12)\n",
    "ax.set_xlabel(\"Hour\", fontsize=12)\n",
    "ax.set_ylabel(\"V\", fontsize=12)\n",
    "plt.show()"
   ]
  },
  {
   "cell_type": "code",
   "execution_count": null,
   "metadata": {},
   "outputs": [],
   "source": []
  }
 ],
 "metadata": {
  "kernelspec": {
   "display_name": "Python [conda env:PythonData]",
   "language": "python",
   "name": "conda-env-PythonData-py"
  },
  "language_info": {
   "codemirror_mode": {
    "name": "ipython",
    "version": 3
   },
   "file_extension": ".py",
   "mimetype": "text/x-python",
   "name": "python",
   "nbconvert_exporter": "python",
   "pygments_lexer": "ipython3",
   "version": "3.6.4"
  }
 },
 "nbformat": 4,
 "nbformat_minor": 2
}
