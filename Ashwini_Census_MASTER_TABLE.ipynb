{
 "cells": [
  {
   "cell_type": "code",
   "execution_count": 106,
   "metadata": {
    "collapsed": true
   },
   "outputs": [],
   "source": [
    "# Dependencies\n",
    "import json\n",
    "import requests\n",
    "import pandas as pd\n",
    "import matplotlib.pyplot as plt\n",
    "from matplotlib import style\n"
   ]
  },
  {
   "cell_type": "code",
   "execution_count": 107,
   "metadata": {
    "collapsed": true
   },
   "outputs": [],
   "source": [
    "api_key = '3286c138a388ef8b9e598517a438a480860463e3'"
   ]
  },
  {
   "cell_type": "code",
   "execution_count": 108,
   "metadata": {
    "collapsed": true
   },
   "outputs": [],
   "source": [
    "url = 'https://api.census.gov/data/2013/acs1?get=NAME,B01003_001E,B25004_001E,B25077_001E,B25035_001E,B10010_001E,B15003_022E,B15003_017E,B15003_021E,B15003_022E,B15003_023E,B15003_024E,B15003_025E,B21001_002E,B21001_003E,B02008_001E,B02009_001E,B02010_001E,B02011_001E,B02012_001E,B02013_001E,B05001_002E,B05001_006E,B17001_002E,B24050_002E,B24050_005E,B24050_006E,B24050_007E,B24050_008E,B24050_009E,B24050_012E,B24050_013E,B24050_016E,B24050_020E,B24050_023E,B24050_027E,C23022_001E,B05002_013E&for=congressional%20district:*&key='\n",
    "\n",
    "key_url = url + api_key"
   ]
  },
  {
   "cell_type": "code",
   "execution_count": 109,
   "metadata": {
    "collapsed": true
   },
   "outputs": [],
   "source": [
    "\n",
    "columns = {'NAME': 'Name of District',\n",
    "            'B01003_001E' : 'Total Population',\n",
    "            'B25004_001E' : 'Vacant Housing Units',\n",
    "            'B25077_001E' : 'Median Home Value',\n",
    "            'B25035_001E' : 'Median Year Sructures Built',\n",
    "            'B10010_001E' : 'Median Income',\n",
    "            'B15003_022E' : 'Total w/ Bachelors',\n",
    "            'B08013_001E' : 'Movers to different state',\n",
    "            'B08131_001E' : 'Aggregrate Travel Time to Work',\n",
    "            'metropolitan statistical area/micropolitan statistical area' : 'Area ID',\n",
    "            \"B15003_021E\":\"Associates Degree\", \n",
    "            \"B15003_017E\":\"High School Diploma\", \n",
    "            \"B15003_022E\":\"Bachelor's\", \n",
    "            \"B15003_023E\":\"Masters\" , \n",
    "            \"B15003_024E\":\"Professional\" , \n",
    "            \"B15003_025E\":\"Doctorate\",\n",
    "            \"B21001_002E\": \"Veteran\",\n",
    "            \"B21001_003E\": \"Non-Veteran\",\n",
    "            \"B02008_001E\":\"White\", \n",
    "            \"B02009_001E\":\"African American\",\n",
    "            \"B02010_001E\":\"Native American/Alaskan\",\n",
    "            \"B02011_001E\":\"Asian\",\n",
    "           \"B02012_001E\": \"Native Hawaiian/Pacific Islander\",\n",
    "            \"B02013_001E\":\"OtherRace\",\n",
    "            \"B05001_002E\" : \"U.S. citizen\",\n",
    "            'B05001_006E' : 'Non U.S. citizen',\n",
    "            \"B17001_002E\" : \"Income in the past 12 months below poverty level\",\n",
    "            \"B24050_002E\" : \"Agriculture, forestry, fishing and hunting, and mining\",\n",
    "            \"B24050_005E\" : \"Construction\",\n",
    "            \"B24050_006E\" : \"Manufacturing\",\n",
    "            \"B24050_007E\" : \"Wholesale Trade\",\n",
    "            \"B24050_008E\" : \"Retail Trade\",\n",
    "            \"B24050_009E\" : \"Transportation and warehousing, and utilities\",\n",
    "            \"B24050_012E\" : \"INFORMATION\",\n",
    "            \"B24050_013E\" : \"Finance and insurance, and real estate and rental and leasing\",\n",
    "            \"B24050_016E\" : \"Professional, scientific, and management, and administrative and waste management services\",  \n",
    "            \"B24050_020E\" : \"Educational services, and health care and social assistance\",\n",
    "            \"B24050_023E\" : \"Arts, entertainment, and recreation, and accommodation and food services\",\n",
    "            \"B24050_027E\" : \"Public Administration\",\n",
    "           \"C23022_001E\" : \"Total Unemployed\",\n",
    "           \"B05002_013E\" : \"Foreign Born\",\n",
    "           #\"B05001_002E\" : \"U.S. citizen, born in the United States\"\n",
    "           \n",
    "           \n",
    "          }\n"
   ]
  },
  {
   "cell_type": "code",
   "execution_count": 110,
   "metadata": {
    "collapsed": true
   },
   "outputs": [],
   "source": [
    "census_response = requests.get(key_url)\n",
    "census_json = census_response.json()\n",
    "\n",
    "dataFrame =pd.DataFrame(census_json)\n",
    "dataFrame.columns = dataFrame.iloc[0]\n",
    "dataFrame = dataFrame.drop([0])\n",
    "dataFrame = dataFrame.rename(columns=columns)"
   ]
  },
  {
   "cell_type": "code",
   "execution_count": 111,
   "metadata": {},
   "outputs": [
    {
     "data": {
      "text/html": [
       "<div>\n",
       "<style>\n",
       "    .dataframe thead tr:only-child th {\n",
       "        text-align: right;\n",
       "    }\n",
       "\n",
       "    .dataframe thead th {\n",
       "        text-align: left;\n",
       "    }\n",
       "\n",
       "    .dataframe tbody tr th {\n",
       "        vertical-align: top;\n",
       "    }\n",
       "</style>\n",
       "<table border=\"1\" class=\"dataframe\">\n",
       "  <thead>\n",
       "    <tr style=\"text-align: right;\">\n",
       "      <th></th>\n",
       "      <th>Name of District</th>\n",
       "      <th>Total Population</th>\n",
       "      <th>Vacant Housing Units</th>\n",
       "      <th>Median Home Value</th>\n",
       "      <th>Median Year Sructures Built</th>\n",
       "      <th>Median Income</th>\n",
       "      <th>Bachelor's</th>\n",
       "      <th>High School Diploma</th>\n",
       "      <th>Associates Degree</th>\n",
       "      <th>Bachelor's</th>\n",
       "      <th>...</th>\n",
       "      <th>INFORMATION</th>\n",
       "      <th>Finance and insurance, and real estate and rental and leasing</th>\n",
       "      <th>Professional, scientific, and management, and administrative and waste management services</th>\n",
       "      <th>Educational services, and health care and social assistance</th>\n",
       "      <th>Arts, entertainment, and recreation, and accommodation and food services</th>\n",
       "      <th>Public Administration</th>\n",
       "      <th>Total Unemployed</th>\n",
       "      <th>Foreign Born</th>\n",
       "      <th>state</th>\n",
       "      <th>congressional district</th>\n",
       "    </tr>\n",
       "  </thead>\n",
       "  <tbody>\n",
       "    <tr>\n",
       "      <th>1</th>\n",
       "      <td>Congressional District 1 (113th Congress), Ala...</td>\n",
       "      <td>695176</td>\n",
       "      <td>77737</td>\n",
       "      <td>130700</td>\n",
       "      <td>1984</td>\n",
       "      <td>40803</td>\n",
       "      <td>72934</td>\n",
       "      <td>126702</td>\n",
       "      <td>42633</td>\n",
       "      <td>72934</td>\n",
       "      <td>...</td>\n",
       "      <td>3999</td>\n",
       "      <td>15888</td>\n",
       "      <td>25525</td>\n",
       "      <td>64078</td>\n",
       "      <td>30570</td>\n",
       "      <td>11190</td>\n",
       "      <td>441069</td>\n",
       "      <td>18083</td>\n",
       "      <td>01</td>\n",
       "      <td>01</td>\n",
       "    </tr>\n",
       "    <tr>\n",
       "      <th>2</th>\n",
       "      <td>Congressional District 2 (113th Congress), Ala...</td>\n",
       "      <td>690074</td>\n",
       "      <td>48013</td>\n",
       "      <td>112400</td>\n",
       "      <td>1983</td>\n",
       "      <td>45489</td>\n",
       "      <td>57610</td>\n",
       "      <td>120918</td>\n",
       "      <td>36495</td>\n",
       "      <td>57610</td>\n",
       "      <td>...</td>\n",
       "      <td>4034</td>\n",
       "      <td>12942</td>\n",
       "      <td>20555</td>\n",
       "      <td>59887</td>\n",
       "      <td>24293</td>\n",
       "      <td>24652</td>\n",
       "      <td>441141</td>\n",
       "      <td>18314</td>\n",
       "      <td>01</td>\n",
       "      <td>02</td>\n",
       "    </tr>\n",
       "    <tr>\n",
       "      <th>3</th>\n",
       "      <td>Congressional District 3 (113th Congress), Ala...</td>\n",
       "      <td>697761</td>\n",
       "      <td>53146</td>\n",
       "      <td>111700</td>\n",
       "      <td>1984</td>\n",
       "      <td>46421</td>\n",
       "      <td>55675</td>\n",
       "      <td>122707</td>\n",
       "      <td>32578</td>\n",
       "      <td>55675</td>\n",
       "      <td>...</td>\n",
       "      <td>3932</td>\n",
       "      <td>14637</td>\n",
       "      <td>21083</td>\n",
       "      <td>67465</td>\n",
       "      <td>27035</td>\n",
       "      <td>18921</td>\n",
       "      <td>459735</td>\n",
       "      <td>21192</td>\n",
       "      <td>01</td>\n",
       "      <td>03</td>\n",
       "    </tr>\n",
       "    <tr>\n",
       "      <th>4</th>\n",
       "      <td>Congressional District 4 (113th Congress), Ala...</td>\n",
       "      <td>685175</td>\n",
       "      <td>52293</td>\n",
       "      <td>102600</td>\n",
       "      <td>1979</td>\n",
       "      <td>44536</td>\n",
       "      <td>46061</td>\n",
       "      <td>127289</td>\n",
       "      <td>42214</td>\n",
       "      <td>46061</td>\n",
       "      <td>...</td>\n",
       "      <td>3481</td>\n",
       "      <td>10358</td>\n",
       "      <td>18184</td>\n",
       "      <td>59296</td>\n",
       "      <td>17977</td>\n",
       "      <td>11396</td>\n",
       "      <td>432636</td>\n",
       "      <td>28097</td>\n",
       "      <td>01</td>\n",
       "      <td>04</td>\n",
       "    </tr>\n",
       "    <tr>\n",
       "      <th>5</th>\n",
       "      <td>Congressional District 5 (113th Congress), Ala...</td>\n",
       "      <td>701220</td>\n",
       "      <td>32654</td>\n",
       "      <td>141500</td>\n",
       "      <td>1984</td>\n",
       "      <td>45891</td>\n",
       "      <td>90232</td>\n",
       "      <td>103980</td>\n",
       "      <td>39078</td>\n",
       "      <td>90232</td>\n",
       "      <td>...</td>\n",
       "      <td>5425</td>\n",
       "      <td>13300</td>\n",
       "      <td>42708</td>\n",
       "      <td>61177</td>\n",
       "      <td>22079</td>\n",
       "      <td>21636</td>\n",
       "      <td>458603</td>\n",
       "      <td>30418</td>\n",
       "      <td>01</td>\n",
       "      <td>05</td>\n",
       "    </tr>\n",
       "  </tbody>\n",
       "</table>\n",
       "<p>5 rows × 40 columns</p>\n",
       "</div>"
      ],
      "text/plain": [
       "0                                   Name of District Total Population  \\\n",
       "1  Congressional District 1 (113th Congress), Ala...           695176   \n",
       "2  Congressional District 2 (113th Congress), Ala...           690074   \n",
       "3  Congressional District 3 (113th Congress), Ala...           697761   \n",
       "4  Congressional District 4 (113th Congress), Ala...           685175   \n",
       "5  Congressional District 5 (113th Congress), Ala...           701220   \n",
       "\n",
       "0 Vacant Housing Units Median Home Value Median Year Sructures Built  \\\n",
       "1                77737            130700                        1984   \n",
       "2                48013            112400                        1983   \n",
       "3                53146            111700                        1984   \n",
       "4                52293            102600                        1979   \n",
       "5                32654            141500                        1984   \n",
       "\n",
       "0 Median Income Bachelor's High School Diploma Associates Degree Bachelor's  \\\n",
       "1         40803      72934              126702             42633      72934   \n",
       "2         45489      57610              120918             36495      57610   \n",
       "3         46421      55675              122707             32578      55675   \n",
       "4         44536      46061              127289             42214      46061   \n",
       "5         45891      90232              103980             39078      90232   \n",
       "\n",
       "0          ...           INFORMATION  \\\n",
       "1          ...                  3999   \n",
       "2          ...                  4034   \n",
       "3          ...                  3932   \n",
       "4          ...                  3481   \n",
       "5          ...                  5425   \n",
       "\n",
       "0 Finance and insurance, and real estate and rental and leasing  \\\n",
       "1                                              15888              \n",
       "2                                              12942              \n",
       "3                                              14637              \n",
       "4                                              10358              \n",
       "5                                              13300              \n",
       "\n",
       "0 Professional, scientific, and management, and administrative and waste management services  \\\n",
       "1                                              25525                                           \n",
       "2                                              20555                                           \n",
       "3                                              21083                                           \n",
       "4                                              18184                                           \n",
       "5                                              42708                                           \n",
       "\n",
       "0 Educational services, and health care and social assistance  \\\n",
       "1                                              64078            \n",
       "2                                              59887            \n",
       "3                                              67465            \n",
       "4                                              59296            \n",
       "5                                              61177            \n",
       "\n",
       "0 Arts, entertainment, and recreation, and accommodation and food services  \\\n",
       "1                                              30570                         \n",
       "2                                              24293                         \n",
       "3                                              27035                         \n",
       "4                                              17977                         \n",
       "5                                              22079                         \n",
       "\n",
       "0 Public Administration Total Unemployed Foreign Born state  \\\n",
       "1                 11190           441069        18083    01   \n",
       "2                 24652           441141        18314    01   \n",
       "3                 18921           459735        21192    01   \n",
       "4                 11396           432636        28097    01   \n",
       "5                 21636           458603        30418    01   \n",
       "\n",
       "0 congressional district  \n",
       "1                     01  \n",
       "2                     02  \n",
       "3                     03  \n",
       "4                     04  \n",
       "5                     05  \n",
       "\n",
       "[5 rows x 40 columns]"
      ]
     },
     "execution_count": 111,
     "metadata": {},
     "output_type": "execute_result"
    }
   ],
   "source": [
    "dataFrame.head()\n"
   ]
  },
  {
   "cell_type": "code",
   "execution_count": 112,
   "metadata": {
    "collapsed": true
   },
   "outputs": [],
   "source": [
    "#covert isolated dataframe to numeric\n",
    "isolated = dataFrame[(dataFrame['Name of District'] == \"Congressional District 45 (113th Congress), California\")]\n",
    "isoNumeric = isolated['Total Population']   \n",
    "isoNumeric = pd.to_numeric(isoNumeric)"
   ]
  },
  {
   "cell_type": "code",
   "execution_count": 113,
   "metadata": {},
   "outputs": [
    {
     "data": {
      "text/plain": [
       "731679.4622425629"
      ]
     },
     "execution_count": 113,
     "metadata": {},
     "output_type": "execute_result"
    }
   ],
   "source": [
    "#find average population of congressional district\n",
    "s = dataFrame['Total Population']\n",
    "s = pd.to_numeric(s)\n",
    "avg_pop = s.mean()\n",
    "avg_pop"
   ]
  },
  {
   "cell_type": "code",
   "execution_count": 114,
   "metadata": {},
   "outputs": [
    {
     "data": {
      "text/plain": [
       "733706.0"
      ]
     },
     "execution_count": 114,
     "metadata": {},
     "output_type": "execute_result"
    }
   ],
   "source": [
    "#find population of irvine congress district\n",
    "isolated_pop = isolated['Total Population'].mean()\n",
    "isolated_pop"
   ]
  },
  {
   "cell_type": "code",
   "execution_count": 115,
   "metadata": {
    "collapsed": true
   },
   "outputs": [],
   "source": [
    "popNames = ['Congressional District 45', 'Average']\n",
    "popNums = [isolated_pop, avg_pop]"
   ]
  },
  {
   "cell_type": "code",
   "execution_count": 116,
   "metadata": {},
   "outputs": [
    {
     "data": {
      "image/png": "[encoded data removed]",
      "text/plain": [
       "<matplotlib.figure.Figure at 0x15aaec9ed68>"
      ]
     },
     "metadata": {},
     "output_type": "display_data"
    }
   ],
   "source": [
    "plt.bar(popNames, popNums, align='center', alpha=0.5)\n",
    "plt.ylabel('Total Population')\n",
    "plt.title('Disctrict vs. Average Population')\n",
    "axes = plt.gca()\n",
    "min_pop = s.min()\n",
    "max_pop = s.max()\n",
    "axes.set_ylim([min_pop,800000])\n",
    "plt.show()"
   ]
  },
  {
   "cell_type": "code",
   "execution_count": 117,
   "metadata": {},
   "outputs": [
    {
     "data": {
      "text/html": [
       "<div>\n",
       "<style>\n",
       "    .dataframe thead tr:only-child th {\n",
       "        text-align: right;\n",
       "    }\n",
       "\n",
       "    .dataframe thead th {\n",
       "        text-align: left;\n",
       "    }\n",
       "\n",
       "    .dataframe tbody tr th {\n",
       "        vertical-align: top;\n",
       "    }\n",
       "</style>\n",
       "<table border=\"1\" class=\"dataframe\">\n",
       "  <thead>\n",
       "    <tr style=\"text-align: right;\">\n",
       "      <th></th>\n",
       "      <th>Name of District</th>\n",
       "      <th>Total Population</th>\n",
       "      <th>Vacant Housing Units</th>\n",
       "      <th>Median Home Value</th>\n",
       "      <th>Median Year Sructures Built</th>\n",
       "      <th>Median Income</th>\n",
       "      <th>Bachelor's</th>\n",
       "      <th>High School Diploma</th>\n",
       "      <th>Associates Degree</th>\n",
       "      <th>Bachelor's</th>\n",
       "      <th>...</th>\n",
       "      <th>INFORMATION</th>\n",
       "      <th>Finance and insurance, and real estate and rental and leasing</th>\n",
       "      <th>Professional, scientific, and management, and administrative and waste management services</th>\n",
       "      <th>Educational services, and health care and social assistance</th>\n",
       "      <th>Arts, entertainment, and recreation, and accommodation and food services</th>\n",
       "      <th>Public Administration</th>\n",
       "      <th>Total Unemployed</th>\n",
       "      <th>Foreign Born</th>\n",
       "      <th>state</th>\n",
       "      <th>congressional district</th>\n",
       "    </tr>\n",
       "  </thead>\n",
       "  <tbody>\n",
       "    <tr>\n",
       "      <th>66</th>\n",
       "      <td>Congressional District 45 (113th Congress), Ca...</td>\n",
       "      <td>733706</td>\n",
       "      <td>12889</td>\n",
       "      <td>590200</td>\n",
       "      <td>1983</td>\n",
       "      <td>None</td>\n",
       "      <td>154514</td>\n",
       "      <td>66484</td>\n",
       "      <td>40930</td>\n",
       "      <td>154514</td>\n",
       "      <td>...</td>\n",
       "      <td>12175</td>\n",
       "      <td>37910</td>\n",
       "      <td>61218</td>\n",
       "      <td>79264</td>\n",
       "      <td>32789</td>\n",
       "      <td>9930</td>\n",
       "      <td>492282</td>\n",
       "      <td>195827</td>\n",
       "      <td>06</td>\n",
       "      <td>45</td>\n",
       "    </tr>\n",
       "  </tbody>\n",
       "</table>\n",
       "<p>1 rows × 40 columns</p>\n",
       "</div>"
      ],
      "text/plain": [
       "0                                    Name of District Total Population  \\\n",
       "66  Congressional District 45 (113th Congress), Ca...           733706   \n",
       "\n",
       "0  Vacant Housing Units Median Home Value Median Year Sructures Built  \\\n",
       "66                12889            590200                        1983   \n",
       "\n",
       "0  Median Income Bachelor's High School Diploma Associates Degree Bachelor's  \\\n",
       "66          None     154514               66484             40930     154514   \n",
       "\n",
       "0           ...           INFORMATION  \\\n",
       "66          ...                 12175   \n",
       "\n",
       "0  Finance and insurance, and real estate and rental and leasing  \\\n",
       "66                                              37910              \n",
       "\n",
       "0  Professional, scientific, and management, and administrative and waste management services  \\\n",
       "66                                              61218                                           \n",
       "\n",
       "0  Educational services, and health care and social assistance  \\\n",
       "66                                              79264            \n",
       "\n",
       "0  Arts, entertainment, and recreation, and accommodation and food services  \\\n",
       "66                                              32789                         \n",
       "\n",
       "0  Public Administration Total Unemployed Foreign Born state  \\\n",
       "66                  9930           492282       195827    06   \n",
       "\n",
       "0  congressional district  \n",
       "66                     45  \n",
       "\n",
       "[1 rows x 40 columns]"
      ]
     },
     "execution_count": 117,
     "metadata": {},
     "output_type": "execute_result"
    }
   ],
   "source": [
    "citizenship_df = dataFrame[(dataFrame['Name of District'] == \"Congressional District 45 (113th Congress), California\")]\n",
    "citizenship_df.head()"
   ]
  },
  {
   "cell_type": "code",
   "execution_count": 118,
   "metadata": {},
   "outputs": [
    {
     "data": {
      "text/plain": [
       "Index(['Name of District', 'Total Population', 'Vacant Housing Units',\n",
       "       'Median Home Value', 'Median Year Sructures Built', 'Median Income',\n",
       "       'Bachelor's', 'High School Diploma', 'Associates Degree', 'Bachelor's',\n",
       "       'Masters', 'Professional', 'Doctorate', 'Veteran', 'Non-Veteran',\n",
       "       'White', 'African American', 'Native American/Alaskan', 'Asian',\n",
       "       'Native Hawaiian/Pacific Islander', 'OtherRace', 'U.S. citizen',\n",
       "       'Non U.S. citizen', 'Income in the past 12 months below poverty level',\n",
       "       'Agriculture, forestry, fishing and hunting, and mining',\n",
       "       'Construction', 'Manufacturing', 'Wholesale Trade', 'Retail Trade',\n",
       "       'Transportation and warehousing, and utilities', 'INFORMATION',\n",
       "       'Finance and insurance, and real estate and rental and leasing',\n",
       "       'Professional, scientific, and management, and administrative and waste management services',\n",
       "       'Educational services, and health care and social assistance',\n",
       "       'Arts, entertainment, and recreation, and accommodation and food services',\n",
       "       'Public Administration', 'Total Unemployed', 'Foreign Born', 'state',\n",
       "       'congressional district'],\n",
       "      dtype='object', name=0)"
      ]
     },
     "execution_count": 118,
     "metadata": {},
     "output_type": "execute_result"
    }
   ],
   "source": [
    "dataFrame.columns"
   ]
  },
  {
   "cell_type": "code",
   "execution_count": 119,
   "metadata": {},
   "outputs": [
    {
     "data": {
      "text/html": [
       "<div>\n",
       "<style>\n",
       "    .dataframe thead tr:only-child th {\n",
       "        text-align: right;\n",
       "    }\n",
       "\n",
       "    .dataframe thead th {\n",
       "        text-align: left;\n",
       "    }\n",
       "\n",
       "    .dataframe tbody tr th {\n",
       "        vertical-align: top;\n",
       "    }\n",
       "</style>\n",
       "<table border=\"1\" class=\"dataframe\">\n",
       "  <thead>\n",
       "    <tr style=\"text-align: right;\">\n",
       "      <th></th>\n",
       "      <th>U.S. citizen</th>\n",
       "      <th>Non U.S. citizen</th>\n",
       "      <th>Veteran</th>\n",
       "      <th>Non-Veteran</th>\n",
       "      <th>Foreign Born</th>\n",
       "    </tr>\n",
       "  </thead>\n",
       "  <tbody>\n",
       "    <tr>\n",
       "      <th>66</th>\n",
       "      <td>529445</td>\n",
       "      <td>76680</td>\n",
       "      <td>32951</td>\n",
       "      <td>542400</td>\n",
       "      <td>195827</td>\n",
       "    </tr>\n",
       "  </tbody>\n",
       "</table>\n",
       "</div>"
      ],
      "text/plain": [
       "0  U.S. citizen Non U.S. citizen Veteran Non-Veteran Foreign Born\n",
       "66       529445            76680   32951      542400       195827"
      ]
     },
     "execution_count": 119,
     "metadata": {},
     "output_type": "execute_result"
    }
   ],
   "source": [
    "citizenship_df1 = citizenship_df[['U.S. citizen', 'Non U.S. citizen','Veteran','Non-Veteran','Foreign Born']]\n",
    "citizenship_df1\n",
    "\n",
    "#new_dataset = isolated[['A','D']].copy()"
   ]
  },
  {
   "cell_type": "code",
   "execution_count": 120,
   "metadata": {},
   "outputs": [
    {
     "data": {
      "image/png": "[encoded data removed]",
      "text/plain": [
       "<matplotlib.figure.Figure at 0x15aaec9e630>"
      ]
     },
     "metadata": {},
     "output_type": "display_data"
    }
   ],
   "source": [
    "## Citizenship Data\n",
    "\n",
    "labels = [\"U.S. citizen\", \"Non U.S. citizen\"]\n",
    "\n",
    "# The values of each section of the pie chart\n",
    "sizes = [529445, 76680]\n",
    "\n",
    "# The colors of each section of the pie chart\n",
    "#colors = [\"yellowgreen\", \"red\", \"lightcoral\", \"lightskyblue\", \"black\", \"brown\",]\n",
    "colors = [\"#ffcc99\", \"#66b3ff\"]\n",
    "\n",
    "# Tells matplotlib to seperate the \"Python\" section from the others\n",
    "explode = (0.1, 0)\n",
    "plt.pie(sizes, explode=explode, labels=labels, colors=colors, autopct=\"%1.1f%%\", shadow=True, startangle=140)\n",
    "plt.axis(\"equal\")\n",
    "# Save Figure\n",
    "plt.savefig(\"CitizenData.png\")\n",
    "plt.show()"
   ]
  },
  {
   "cell_type": "code",
   "execution_count": 124,
   "metadata": {},
   "outputs": [
    {
     "data": {
      "image/png": "[encoded data removed]",
      "text/plain": [
       "<matplotlib.figure.Figure at 0x15aaeeb0978>"
      ]
     },
     "metadata": {},
     "output_type": "display_data"
    }
   ],
   "source": [
    "## Immigration Data\n",
    "labels1 = [\"Foreign Born\", \"U.S. citizen\"]\n",
    "\n",
    "# The values of each section of the pie chart\n",
    "sizes = [195827, 529445]\n",
    "\n",
    "# The colors of each section of the pie chart\n",
    "\n",
    "colors = [\"#c2c2f0\", \"#ffb3e6\"]\n",
    "\n",
    "# Tells matplotlib to seperate the \"Python\" section from the others\n",
    "explode = (0.1, 0)\n",
    "plt.pie(sizes, explode=explode, labels=labels1, colors=colors, autopct=\"%1.1f%%\", shadow=True, startangle=140)\n",
    "plt.axis(\"equal\")\n",
    "plt.savefig(\"ImmigrationData.png\")\n",
    "plt.show()"
   ]
  },
  {
   "cell_type": "code",
   "execution_count": null,
   "metadata": {
    "collapsed": true
   },
   "outputs": [],
   "source": []
  }
 ],
 "metadata": {
  "kernelspec": {
   "display_name": "Python [default]",
   "language": "python",
   "name": "python3"
  },
  "language_info": {
   "codemirror_mode": {
    "name": "ipython",
    "version": 3
   },
   "file_extension": ".py",
   "mimetype": "text/x-python",
   "name": "python",
   "nbconvert_exporter": "python",
   "pygments_lexer": "ipython3",
   "version": "3.6.3"
  }
 },
 "nbformat": 4,
 "nbformat_minor": 2
}
